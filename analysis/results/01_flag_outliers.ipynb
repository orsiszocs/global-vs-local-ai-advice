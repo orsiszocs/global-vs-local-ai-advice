{
 "cells": [
  {
   "cell_type": "markdown",
   "id": "a496515c1adec56",
   "metadata": {
    "collapsed": false
   },
   "source": [
    "#### Outlier detection: number of distinct selections and score\n",
    "Uses a multivariate outlier detection technique (combined Z-score with a threshold of 3) to identify outliers using these two metrics:\n",
    "- the average number of distinct selections made by a participant\n",
    "- the average score of a participant\n",
    "\n",
    "Creates a new experiment data file with the outliers flagged, the data merged, and updated participant IDs indicating their cohort."
   ]
  },
  {
   "cell_type": "code",
   "execution_count": 2,
   "id": "55bedf8f87d9de75",
   "metadata": {
    "collapsed": false,
    "is_executing": true
   },
   "outputs": [],
   "source": [
    "import json\n",
    "import matplotlib.pyplot as plt\n",
    "from matplotlib.ticker import MultipleLocator\n",
    "import statistics\n",
    "import numpy as np\n",
    "from math import sqrt\n",
    "from common import set_matplotlib_latex, plot_colours, set_axes_length\n",
    "set_matplotlib_latex()\n",
    "\n",
    "nr_participants = [10, 40, 51]\n",
    "def get_data_path(number):\n",
    "    return f\"../data/ColourCombo_{number}_anonymised.json\"\n",
    "\n",
    "participants_data = []\n",
    "for nr in nr_participants:\n",
    "    data_path = get_data_path(nr)\n",
    "    with open(data_path) as file:\n",
    "        all_data = json.load(file)\n",
    "        for participant_data in all_data:\n",
    "            participant_data[\"id\"] = str(nr) + \">\" + participant_data[\"id\"]\n",
    "            participants_data.append(participant_data)"
   ]
  },
  {
   "cell_type": "code",
   "execution_count": 3,
   "id": "443f8fbf7de57d96",
   "metadata": {
    "ExecuteTime": {
     "end_time": "2025-05-04T20:42:22.432743100Z",
     "start_time": "2025-05-04T20:42:22.127429400Z"
    },
    "collapsed": false
   },
   "outputs": [
    {
     "data": {
      "image/png": "[encoded data removed]",
      "text/plain": [
       "<Figure size 135.484x90.9091 with 1 Axes>"
      ]
     },
     "metadata": {},
     "output_type": "display_data"
    }
   ],
   "source": [
    "# plot the average number of distinct selections made by a participants against their score\n",
    "participant_selections = []\n",
    "participant_scores = []\n",
    "for participant_data in participants_data:\n",
    "    selections_per_round = []\n",
    "    round_scores = []\n",
    "    for round in participant_data[\"experimentData\"][\"roundsData\"]:\n",
    "        if round[\"roundType\"] == \"tutorial\":\n",
    "            continue\n",
    "        selections = []\n",
    "        for trial in round[\"trials\"]:\n",
    "            combination = tuple(trial[\"combination\"])\n",
    "            if combination not in selections:\n",
    "                selections.append(combination)\n",
    "        selections_per_round.append(len(set(selections)))\n",
    "        round_scores.append(round[\"relativeScore\"] * 100)\n",
    "    participant_selections.append(np.mean(selections_per_round))\n",
    "    participant_scores.append(np.mean(round_scores))\n",
    "plot_width = 1.05\n",
    "plot_height = 0.7\n",
    "plt.scatter(participant_selections, participant_scores, color=plot_colours[\"distinctColours\"][2], s=6)\n",
    "set_axes_length(plot_width, plot_height)\n",
    "plt.gca().xaxis.set_major_locator(MultipleLocator(base=5))\n",
    "plt.gca().yaxis.set_major_locator(MultipleLocator(base=10))\n",
    "plt.xlabel(\"Distinct selections\", labelpad=8, verticalalignment=\"center\")\n",
    "plt.ylabel(\"Score (\\%)\")\n",
    "plt.savefig(\"../figures/flag_outliers/distinct_selections_vs_score_per_participant.pdf\", bbox_inches='tight')\n",
    "plt.show()"
   ]
  },
  {
   "cell_type": "code",
   "execution_count": 4,
   "id": "e97ca126c1f2107b",
   "metadata": {
    "ExecuteTime": {
     "end_time": "2025-05-04T20:42:37.690103400Z",
     "start_time": "2025-05-04T20:42:37.658341900Z"
    },
    "collapsed": false
   },
   "outputs": [
    {
     "name": "stdout",
     "output_type": "stream",
     "text": [
      "Participant cohort and ID: 10>5,    Z-score: 3.2346059912700973,    Group: low\n",
      "Participant cohort and ID: 40>17,    Z-score: 3.7952474278071473,    Group: low\n",
      "Participant cohort and ID: 40>25,    Z-score: 3.3612387029731545,    Group: low\n",
      "Participant cohort and ID: 51>36,    Z-score: 3.6808843120474517,    Group: high\n"
     ]
    }
   ],
   "source": [
    "# find the outliers of the [participant_selections, participant_scores] array using combined Z-scores\n",
    "mean_selections = statistics.mean(participant_selections)\n",
    "std_selections = statistics.stdev(participant_selections)\n",
    "mean_scores = statistics.mean(participant_scores)\n",
    "std_scores = statistics.stdev(participant_scores)\n",
    "z_scores = []\n",
    "for i in range(len(participant_selections)):\n",
    "    z_score = sqrt((participant_selections[i] - mean_selections) ** 2 / std_selections ** 2 + (participant_scores[i] - mean_scores) ** 2 / std_scores ** 2)\n",
    "    z_scores.append(z_score)\n",
    "outliers = []\n",
    "for i in range(len(z_scores)):\n",
    "    if z_scores[i] > 3:\n",
    "        outliers.append({\"participant\": participants_data[i][\"id\"], \"z_score\": z_scores[i], \"group\": participants_data[i][\"experimentData\"][\"recommendationType\"]})\n",
    "for outlier in outliers:\n",
    "    print(f\"Participant cohort and ID: {outlier['participant']},    Z-score: {outlier['z_score']},    Group: {outlier['group']}\")"
   ]
  },
  {
   "cell_type": "code",
   "execution_count": 5,
   "id": "5b267a2bd46dc274",
   "metadata": {
    "ExecuteTime": {
     "end_time": "2025-05-04T20:42:41.064046100Z",
     "start_time": "2025-05-04T20:42:38.675102700Z"
    },
    "collapsed": false
   },
   "outputs": [
    {
     "data": {
      "image/png": "[encoded data removed]",
      "text/plain": [
       "<Figure size 135.484x90.9091 with 1 Axes>"
      ]
     },
     "metadata": {},
     "output_type": "display_data"
    }
   ],
   "source": [
    "# replot the data with the outliers flagged, shown with a different colour,\n",
    "# and local and global conditions shown with their colours\n",
    "plot_width = 1.05\n",
    "plot_height = 0.7\n",
    "\n",
    "for participant_data, selections, scores, in zip(participants_data, participant_selections, participant_scores):\n",
    "    if participant_data[\"experimentData\"][\"recommendationType\"] == \"high\":\n",
    "        plt.scatter(selections, scores, color=plot_colours[\"global\"], s=5, label=\"Global\")\n",
    "    else:\n",
    "        plt.scatter(selections, scores, color=plot_colours[\"local\"], s=5, label=\"Local\")\n",
    "for outlier in outliers:\n",
    "    index = [participant_data[\"id\"] for participant_data in participants_data].index(outlier[\"participant\"])\n",
    "    plt.scatter(participant_selections[index], participant_scores[index], color=plot_colours[\"distinctColours\"][2], s=5, label=\"Excluded\")\n",
    "\n",
    "plt.gca().xaxis.set_major_locator(MultipleLocator(base=5))\n",
    "plt.gca().yaxis.set_major_locator(MultipleLocator(base=10))\n",
    "plt.xlabel(\"Distinct selections\", labelpad=8, verticalalignment=\"center\")\n",
    "plt.ylabel(\"Score (\\%)\", loc=\"top\")\n",
    "handles, labels = plt.gca().get_legend_handles_labels()\n",
    "unique_labels = dict(zip(labels, handles))\n",
    "set_axes_length(plot_width, plot_height)\n",
    "plt.savefig(\"../figures/flag_outliers/selections_vs_score_per_participant_flagged.pdf\", bbox_inches='tight')\n",
    "plt.show()"
   ]
  },
  {
   "cell_type": "code",
   "execution_count": 6,
   "id": "bc88a09a6c22a487",
   "metadata": {
    "ExecuteTime": {
     "end_time": "2025-05-04T20:42:45.636931500Z",
     "start_time": "2025-05-04T20:42:42.955680800Z"
    },
    "collapsed": false
   },
   "outputs": [],
   "source": [
    "# create a new experiment file with the outliers flagged\n",
    "outliers_ids = [outlier[\"participant\"] for outlier in outliers]\n",
    "for participant_data in participants_data:\n",
    "    if participant_data[\"id\"] in outliers_ids:\n",
    "        participant_data[\"outlier\"] = True\n",
    "    else:\n",
    "        participant_data[\"outlier\"] = False\n",
    "with open(\"../data/ColourCombo_101_flagged.json\", \"w\") as file:\n",
    "    json.dump(participants_data, file)"
   ]
  },
  {
   "cell_type": "code",
   "execution_count": null,
   "id": "36b5172eb8b2970d",
   "metadata": {
    "collapsed": false
   },
   "outputs": [],
   "source": []
  }
 ],
 "metadata": {
  "kernelspec": {
   "display_name": "global-vs-local-analysis",
   "language": "python",
   "name": "python3"
  },
  "language_info": {
   "codemirror_mode": {
    "name": "ipython",
    "version": 3
   },
   "file_extension": ".py",
   "mimetype": "text/x-python",
   "name": "python",
   "nbconvert_exporter": "python",
   "pygments_lexer": "ipython3",
   "version": "3.11.12"
  }
 },
 "nbformat": 4,
 "nbformat_minor": 5
}
