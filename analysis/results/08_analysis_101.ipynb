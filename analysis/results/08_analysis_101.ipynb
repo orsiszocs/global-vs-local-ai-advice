{
 "cells": [
  {
   "cell_type": "markdown",
   "id": "6ee22808",
   "metadata": {},
   "source": [
    "### Analysis\n",
    "1. **Data loading and preprocessing**\n",
    "    - Imports participant data, filters outliers, parses timestamps.\n",
    "    - Derives metrics such as AI values and AI adherence rates.\n",
    "    - Prints demographic data.\n",
    "2. **Scores**\n",
    "    - Plots mean pre, AI, post scores across conditions.\n",
    "    - Predicts participants' scores.\n",
    "3. **Rewards**\n",
    "    - Plots mean reward per trial in the AI-assisted phase.\n",
    "    - Predicts participants' rewards.\n",
    "4. **AI adherence**\n",
    "    - Plots score against AI adherence.\n",
    "    - Plots AI adherence rate against trial number.\n",
    "    - Predicts AI adherence.\n",
    "5. **Counterfactual AI**\n",
    "    - Plots adherence to the counterfactual AI.\n",
    "    - Predicts adherence to the counterfactual AI.\n",
    "    - Plots the counterfactual AI value against the trial number.\n",
    "    - Predicts actual and counterfactual AI values.\n",
    "6. **Ratings**\n",
    "    - Plots AI usefulness rating against participant score.\n",
    "    - Predicts participants' AI usefulness rating.\n",
    "    - Prints the distribution of the ratings: usefulness (final), usefulness (per round), adherence (final).\n",
    "7. **AI values**\n",
    "    - Plots participant reward against AI value (point clouds and regression lines).\n",
    "    - Predicts participant reward when the AI suggestion is and isn't followed.\n",
    "    - Plots AI value against trial number.\n",
    "    - Plots improvement on AI suggestion against trial number.\n",
    "    - Predicts improvement on AI advice.\n",
    "    - Predicts the AI value.\n",
    "8. **Time**\n",
    "    - Plots mean pre, AI, post completion times across conditions.\n",
    "    - Predicts completion time."
   ]
  },
  {
   "cell_type": "code",
   "execution_count": 103,
   "id": "30e5eae32cc50fd2",
   "metadata": {
    "is_executing": true
   },
   "outputs": [
    {
     "name": "stderr",
     "output_type": "stream",
     "text": [
      "100%|██████████| 101/101 [00:19<00:00,  5.10it/s]\n"
     ]
    }
   ],
   "source": [
    "import json\n",
    "import matplotlib.pyplot as plt\n",
    "import matplotlib.lines as mlines\n",
    "from matplotlib.ticker import FixedLocator, MultipleLocator\n",
    "from tqdm import tqdm\n",
    "import statistics\n",
    "import numpy as np\n",
    "from math import sqrt\n",
    "import pandas as pd\n",
    "from datetime import datetime\n",
    "from statsmodels.formula.api import mixedlm\n",
    "from common import set_matplotlib_latex, plot_colours, Advisor, Selection, high_level_combination, set_axes_length\n",
    "set_matplotlib_latex()\n",
    "plot_width = 1.05\n",
    "plot_height = 0.7\n",
    "\n",
    "def ai_suggestion_value(landscape_data, suggestion):\n",
    "    reward_scalar = landscape_data[\"rewardScalar\"]\n",
    "    coefficients_low = landscape_data[\"coefficientsLow\"]\n",
    "    coefficients_high = landscape_data[\"coefficientsHigh\"]\n",
    "    min_reward = landscape_data[\"minReward\"]\n",
    "    max_reward = landscape_data[\"maxReward\"]\n",
    "    low_suggestion = suggestion[0]\n",
    "    high_suggestion = suggestion[1]\n",
    "    ai_value = 0\n",
    "    for i in range(len(low_suggestion)):\n",
    "        ai_value += low_suggestion[i] * coefficients_low[i]\n",
    "    for i in range(len(high_suggestion)):\n",
    "        ai_value += high_suggestion[i] * coefficients_high[i]\n",
    "    ai_value = ai_value * reward_scalar + 100\n",
    "    ai_value = max(min_reward, min(max_reward, ai_value))\n",
    "    ai_value = (ai_value - min_reward) / (max_reward - min_reward) * 100\n",
    "    return ai_value\n",
    "\n",
    "def is_ai_suggestion_followed(trial):\n",
    "    suggestion = trial[\"suggestion\"]\n",
    "    combination = trial[\"combination\"]\n",
    "    low_suggestion = suggestion[0]\n",
    "    high_suggestion = suggestion[1]\n",
    "    for i in range(len(low_suggestion)):\n",
    "        if low_suggestion[i] != 0:\n",
    "            if low_suggestion[i] != combination[i]:\n",
    "                return False\n",
    "    high_combination = high_level_combination(combination)\n",
    "    for i in range(len(high_suggestion)):\n",
    "        if high_suggestion[i] != 0:\n",
    "            if high_suggestion[i] != high_combination[i]:\n",
    "                return False\n",
    "    return True\n",
    "\n",
    "def quantify_matched_ai(trial):\n",
    "    suggestion = trial[\"suggestion\"]\n",
    "    combination = trial[\"combination\"]\n",
    "    low_suggestion = suggestion[0]\n",
    "    high_suggestion = suggestion[1]\n",
    "    nr_components = 0\n",
    "    nr_matched = 0\n",
    "    for i in range(len(low_suggestion)):\n",
    "        if low_suggestion[i] != 0:\n",
    "            nr_components += 1\n",
    "            if low_suggestion[i] == combination[i]:\n",
    "                nr_matched += 1\n",
    "    high_combination = high_level_combination(combination)\n",
    "    for i in range(len(high_suggestion)):\n",
    "        if high_suggestion[i] != 0:\n",
    "            nr_components += 1\n",
    "            if high_suggestion[i] == high_combination[i]:\n",
    "                nr_matched += 1\n",
    "    return 100 * nr_matched / nr_components\n",
    "\n",
    "def ai_referenced_parts_reward(trial, landscape_data):\n",
    "    suggestion = trial[\"suggestion\"]\n",
    "    combination = trial[\"combination\"]\n",
    "    low_suggestion = suggestion[0]\n",
    "    high_suggestion = suggestion[1]\n",
    "    high_combination = high_level_combination(combination)\n",
    "    reward = 0\n",
    "    for i in range(len(low_suggestion)):\n",
    "        if low_suggestion[i] != 0:\n",
    "            reward += combination[i] * landscape_data[\"coefficientsLow\"][i]\n",
    "    for i in range(len(high_suggestion)):\n",
    "        if high_suggestion[i] != 0:\n",
    "            reward += high_combination[i] * landscape_data[\"coefficientsHigh\"][i]\n",
    "    reward = reward * landscape_data[\"rewardScalar\"] + 100\n",
    "    min_reward = landscape_data[\"minReward\"]\n",
    "    max_reward = landscape_data[\"maxReward\"]\n",
    "    reward = max(min_reward, min(max_reward, reward))\n",
    "    reward = (reward - min_reward) / (max_reward - min_reward) * 100\n",
    "    return reward\n",
    "\n",
    "def quantify_coverages(landscape_data, trials):\n",
    "    advisor = Advisor(landscape_data[\"blockNr1\"], landscape_data[\"blockNr2\"])\n",
    "    max_rank = 12\n",
    "    coverages = []\n",
    "    for trial in trials:\n",
    "        reward = trial[\"noisyReward\"]\n",
    "        combination = trial[\"combination\"]\n",
    "        advisor.update_with_selection(Selection(combination, reward))\n",
    "        rank = advisor.selections_matrix_rank()\n",
    "        coverage = 100 * rank / max_rank\n",
    "        coverages.append(coverage)\n",
    "    return coverages\n",
    "\n",
    "def load_counterfactual_advisor_simulation():\n",
    "    with open(\"../outputs/counterfactual_advisor/counterfactual_advisor.json\") as file:\n",
    "        return json.load(file)\n",
    "\n",
    "def load_participants_data(data_path):\n",
    "    participants_data = []\n",
    "    counterfactual_advisor_data = load_counterfactual_advisor_simulation()\n",
    "    with open(data_path) as file:\n",
    "        all_data = json.load(file)\n",
    "        for participant_data in tqdm(all_data):\n",
    "            if not participant_data[\"outlier\"]:\n",
    "                rounds = participant_data[\"experimentData\"][\"roundsData\"]\n",
    "                participant_counterfactual_advisor = counterfactual_advisor_data[participant_data[\"id\"]]\n",
    "                rounds_data = []\n",
    "                nr_assisted_round = 0\n",
    "                for round_ in rounds:\n",
    "                    landscape = round_[\"landscape\"]\n",
    "                    min_reward = landscape[\"minReward\"]\n",
    "                    max_reward = landscape[\"maxReward\"]\n",
    "                    trials = round_[\"trials\"]\n",
    "                    coverages = quantify_coverages(landscape, trials)\n",
    "                    trial_nr = 0\n",
    "                    for trial, coverage in zip(trials, coverages):\n",
    "                        trial[\"relativeReward\"] = (trial[\"noisyReward\"] - min_reward) / (max_reward - min_reward) * 100\n",
    "                        trial[\"timestamp\"] = datetime.strptime(trial[\"timestamp\"][:-1], \"%Y-%m-%dT%H:%M:%S.%f\")\n",
    "                        trial[\"coverage\"] = coverage\n",
    "                        if round_[\"roundType\"] == \"assisted\":\n",
    "                            trial[\"relativeAiValue\"] = ai_suggestion_value(landscape, trial[\"suggestion\"])\n",
    "                            trial[\"followedAi\"] = 100 if is_ai_suggestion_followed(trial) else 0\n",
    "                            trial[\"followedOtherAi\"] = participant_counterfactual_advisor[nr_assisted_round][\"aiFollowedFrequencies\"][trial_nr]\n",
    "                            trial[\"relativeOtherAiReward\"] = participant_counterfactual_advisor[nr_assisted_round][\"aiRewards\"][trial_nr]\n",
    "                            trial[\"matchedAi\"] = quantify_matched_ai(trial)\n",
    "                            trial[\"aiReferencedPartsReward\"] = ai_referenced_parts_reward(trial, landscape)\n",
    "                            trial_nr += 1\n",
    "                            assert participant_counterfactual_advisor[nr_assisted_round][\"landscape\"] == landscape\n",
    "                    round_data ={\n",
    "                        \"landscape\": landscape,\n",
    "                        \"roundType\": round_[\"roundType\"],\n",
    "                        \"trials\": trials,\n",
    "                        \"relativeScore\": 100 * round_[\"relativeScore\"],\n",
    "                        \"coverageRound\": trials[-1][\"coverage\"],\n",
    "                        \"timeRound\": (trials[-1][\"timestamp\"] - trials[0][\"timestamp\"]).total_seconds(),\n",
    "                    }\n",
    "                    if round_[\"roundType\"] == \"assisted\":\n",
    "                        round_data[\"followedAiFrequency\"] = statistics.mean([trial[\"followedAi\"] for trial in trials])\n",
    "                        round_data[\"matchedAiRound\"] = statistics.mean([trial[\"matchedAi\"] for trial in trials])\n",
    "                        round_data[\"relativeAiValueRound\"] = statistics.mean([trial[\"relativeAiValue\"] for trial in trials])\n",
    "                        round_data[\"usefulAiRound\"] = int(round_[\"usefulAiRound\"])\n",
    "                        round_data[\"followedOtherAiRound\"] = statistics.mean([trial[\"followedOtherAi\"] for trial in trials])\n",
    "                        round_data[\"relativeOtherAiRewardRound\"] = statistics.mean([trial[\"relativeOtherAiReward\"] for trial in trials])\n",
    "                        nr_assisted_round += 1\n",
    "                    rounds_data.append(round_data)          \n",
    "                participants_data.append({\n",
    "                    \"id\": participant_data[\"id\"],\n",
    "                    \"usefulAiRating\": participant_data[\"experimentData\"][\"usefulAi\"],\n",
    "                    \"followedAiRating\": participant_data[\"experimentData\"][\"followedAi\"],\n",
    "                    \"age\": participant_data[\"experimentData\"][\"age\"],\n",
    "                    \"gender\": \"Female\" if participant_data[\"experimentData\"][\"gender\"] == 0 else \"Male\" if participant_data[\"experimentData\"][\"gender\"] == 1 else \"Other\",\n",
    "                    \"startTime\": datetime.strptime(participant_data[\"task_start\"], \"%Y-%m-%d %H:%M:%S\"),\n",
    "                    \"endTime\": datetime.strptime(participant_data[\"task_end\"], \"%Y-%m-%d %H:%M:%S\"),\n",
    "                    \"tutorialRound\": rounds_data[0],\n",
    "                    \"preRounds\": rounds_data[1:4],\n",
    "                    \"aiRounds\": rounds_data[4:10],\n",
    "                    \"postRounds\": rounds_data[10:13],\n",
    "                    \"aiType\": participant_data[\"experimentData\"][\"recommendationType\"],\n",
    "                })\n",
    "    return participants_data\n",
    "data_path = \"../data/ColourCombo_101_flagged.json\"\n",
    "participants_data = load_participants_data(data_path)"
   ]
  },
  {
   "cell_type": "markdown",
   "id": "31963777ee508b8a",
   "metadata": {},
   "source": [
    "#### Demographic data"
   ]
  },
  {
   "cell_type": "code",
   "execution_count": 104,
   "id": "90b79e3f985320b",
   "metadata": {
    "ExecuteTime": {
     "end_time": "2025-04-24T13:49:03.210018800Z",
     "start_time": "2025-04-24T13:49:03.177939100Z"
    }
   },
   "outputs": [
    {
     "name": "stdout",
     "output_type": "stream",
     "text": [
      "Global condition: 52\n",
      "Local condition: 45\n",
      "\n",
      "Age mean: 33.96907216494845\n",
      "Age std: 10.504417332967813\n",
      "\n",
      "Female: 47\n",
      "Male: 48\n",
      "Other: 2\n"
     ]
    }
   ],
   "source": [
    "ai_types = [participant_data[\"aiType\"] for participant_data in participants_data]\n",
    "print(f\"Global condition: {ai_types.count('high')}\")\n",
    "print(f\"Local condition: {ai_types.count('low')}\")\n",
    "print()\n",
    "age_mean = statistics.mean([float(participant_data[\"age\"]) for participant_data in participants_data])\n",
    "age_std = statistics.stdev([float(participant_data[\"age\"]) for participant_data in participants_data])\n",
    "print(f\"Age mean: {age_mean}\")\n",
    "print(f\"Age std: {age_std}\")\n",
    "print()\n",
    "female_counts = sum([1 if participant_data[\"gender\"]==\"Female\" else 0 for participant_data in participants_data])\n",
    "print(f\"Female: {female_counts}\")\n",
    "male_counts = sum([1 if participant_data[\"gender\"]==\"Male\" else 0 for participant_data in participants_data])\n",
    "print(f\"Male: {male_counts}\")\n",
    "other_counts = sum([1 if participant_data[\"gender\"]==\"Other\" else 0 for participant_data in participants_data])\n",
    "print(f\"Other: {other_counts}\")"
   ]
  },
  {
   "cell_type": "markdown",
   "id": "5e76faff85a8fc39",
   "metadata": {},
   "source": [
    "### Scores"
   ]
  },
  {
   "cell_type": "markdown",
   "id": "e7da61ed9347346e",
   "metadata": {},
   "source": [
    "#### Plot: Average Pre, AI, Post scores in the two conditions"
   ]
  },
  {
   "cell_type": "code",
   "execution_count": 105,
   "id": "initial_id",
   "metadata": {
    "ExecuteTime": {
     "end_time": "2025-01-31T17:05:41.287805100Z",
     "start_time": "2025-01-31T17:05:39.946125700Z"
    },
    "collapsed": true,
    "jupyter": {
     "outputs_hidden": true
    }
   },
   "outputs": [
    {
     "data": {
      "image/png": "[encoded data removed]",
      "text/plain": [
       "<Figure size 135.484x90.9091 with 1 Axes>"
      ]
     },
     "metadata": {},
     "output_type": "display_data"
    }
   ],
   "source": [
    "def plot_average_scores_pre_ai_post():\n",
    "    local_participants = [participant_data for participant_data in participants_data if participant_data[\"aiType\"] == \"low\"]\n",
    "    global_participants = [participant_data for participant_data in participants_data if participant_data[\"aiType\"] == \"high\"]\n",
    "    \n",
    "    phase_scores_local_ai = {\n",
    "        \"pre_treatment\": [round_data[\"relativeScore\"] for local_participant in local_participants for round_data in local_participant[\"preRounds\"]],\n",
    "        \"ai\": [round_data[\"relativeScore\"] for local_participant in local_participants for round_data in local_participant[\"aiRounds\"]],\n",
    "        \"post_treatment\": [round_data[\"relativeScore\"] for local_participant in local_participants for round_data in local_participant[\"postRounds\"]]\n",
    "    }\n",
    "    phase_scores_global_ai = {\n",
    "        \"pre_treatment\": [round_data[\"relativeScore\"] for global_participant in global_participants for round_data in global_participant[\"preRounds\"]],\n",
    "        \"ai\": [round_data[\"relativeScore\"] for global_participant in global_participants for round_data in global_participant[\"aiRounds\"]],\n",
    "        \"post_treatment\": [round_data[\"relativeScore\"] for global_participant in global_participants for round_data in global_participant[\"postRounds\"]]\n",
    "    }\n",
    "        \n",
    "    def plot_setting(x_ticks, phase_performances, colour, offset_points, label):\n",
    "        phase_means = []\n",
    "        for phase_nr, phase in enumerate([\"pre_treatment\", \"ai\", \"post_treatment\"]):\n",
    "            performances = phase_performances[phase]\n",
    "            mean = statistics.mean(performances)\n",
    "            phase_means.append(mean)\n",
    "            std = statistics.stdev(performances)\n",
    "            standard_error = std / sqrt(len(performances))\n",
    "\n",
    "            horizontal_line_width = 0.15\n",
    "            x = x_ticks[phase_nr] + offset_points\n",
    "            \n",
    "            left = x - horizontal_line_width / 2\n",
    "            top = mean - standard_error\n",
    "            right = x + horizontal_line_width / 2\n",
    "            bottom = mean + standard_error\n",
    "            if phase == \"ai\":\n",
    "                label = None\n",
    "            plt.plot([x, x], [top, bottom], color=colour, label=label)\n",
    "            plt.plot([left, right], [top, top], color=colour)\n",
    "            plt.plot([left, right], [bottom, bottom], color=colour)\n",
    "            plt.plot(x, mean, 'o', color=colour, markersize=5)\n",
    "        plt.plot([x_tick + offset_points for x_tick in x_ticks], phase_means, color=colour)\n",
    "        return\n",
    "    \n",
    "    xticks = [1, 2, 3]\n",
    "    plt.xticks(xticks, [\"Pre\", \"AI\", \"Post\"])\n",
    "    local_offset = 0.15\n",
    "    plot_setting(xticks, phase_scores_local_ai, plot_colours[\"local\"], local_offset, \"local\")\n",
    "    global_offset = -0.15\n",
    "    plot_setting(xticks, phase_scores_global_ai, plot_colours[\"global\"], global_offset, \"global\")\n",
    "    # plt.legend(loc=\"lower left\")\n",
    "    plt.xlabel(\"Phase\", labelpad=8, verticalalignment=\"center\")\n",
    "    plt.ylabel(\"Score (\\%)\", loc='top')\n",
    "    plt.gca().yaxis.set_major_locator(MultipleLocator(base=5))\n",
    "    set_axes_length(plot_width, plot_height)\n",
    "    plt.savefig(\"../figures/analysis_101/local_vs_global_by_phases.pdf\", bbox_inches='tight')\n",
    "    plt.show()\n",
    "    \n",
    "plot_average_scores_pre_ai_post()"
   ]
  },
  {
   "cell_type": "markdown",
   "id": "51a24e13c03f62e9",
   "metadata": {},
   "source": [
    "#### Mixed effects model: Predict participants' scores\n",
    "##### Model assumption\n",
    "score ~ group * phase + pre_score\n",
    "- score: a participant's score in a round\n",
    "- group: the AI condition (local or global)\n",
    "- phase: the phase of the experiment (pre-treatment, AI, or post-treatment)\n",
    "- pre_score: the participant's mean score in the pre-treatment phase\n",
    "- group * phase: the interaction between the AI condition and the phase\n",
    "- random effect is added for each participant via participant_id\n",
    "##### Results interpretation\n",
    "- **In the AI phase, the local group scores 3.043 points lower than the global group. The Pre scores were controlled for. The effect is significant (p = 0.013).**\n",
    "- Controlling for group and Pre scores, scores in the AI phase are significantly higher than in the Post phase (p < 0.001).\n",
    "- Controlling for group and Pre scores, scores in the AI phase are significantly higher than in the Pre phase (p < 0.001).\n",
    "- The drop in scores observed in the Post phase relative to the AI phase is less severe for the local group than for the global group. The effect isn't significant (p = 0.085).\n",
    "- The increase in score from the Pre to the AI phase is more pronounced for the global group than for the local group. The effect is significant (p = 0.014).\n",
    "- Controlling for group and phase, the Pre scores strongly predict all scores (p < 0.001)."
   ]
  },
  {
   "cell_type": "code",
   "execution_count": 106,
   "id": "761b9d2c47cfff1f",
   "metadata": {
    "ExecuteTime": {
     "end_time": "2025-01-31T17:05:41.971200500Z",
     "start_time": "2025-01-31T17:05:41.296140300Z"
    }
   },
   "outputs": [
    {
     "name": "stdout",
     "output_type": "stream",
     "text": [
      "                Mixed Linear Model Regression Results\n",
      "======================================================================\n",
      "Model:                  MixedLM     Dependent Variable:     score     \n",
      "No. Observations:       1164        Method:                 REML      \n",
      "No. Groups:             97          Scale:                  156.9588  \n",
      "Min. group size:        12          Log-Likelihood:         -4613.8868\n",
      "Max. group size:        12          Converged:              Yes       \n",
      "Mean group size:        12.0                                          \n",
      "----------------------------------------------------------------------\n",
      "                           Coef.  Std.Err.   z    P>|z|  [0.025 0.975]\n",
      "----------------------------------------------------------------------\n",
      "Intercept                  43.663    3.969 11.001 0.000  35.884 51.442\n",
      "group[T.low]               -3.043    1.229 -2.477 0.013  -5.451 -0.635\n",
      "phase[T.post]              -5.291    1.229 -4.307 0.000  -7.699 -2.883\n",
      "phase[T.pre]               -7.811    1.229 -6.359 0.000 -10.219 -5.404\n",
      "group[T.low]:phase[T.post]  3.104    1.804  1.721 0.085  -0.431  6.639\n",
      "group[T.low]:phase[T.pre]   4.432    1.804  2.457 0.014   0.897  7.967\n",
      "pre_score                   0.415    0.063  6.558 0.000   0.291  0.539\n",
      "Group Var                   9.710    0.277                            \n",
      "======================================================================\n",
      "\n"
     ]
    }
   ],
   "source": [
    "def predict_participant_score_mixed_effects_model():\n",
    "    participant_ids = []\n",
    "    groups = []\n",
    "    phases = []\n",
    "    scores = []\n",
    "    mean_pre_scores = []\n",
    "    \n",
    "    for participant_data in participants_data:\n",
    "        participant_id = participant_data[\"id\"]\n",
    "        group = participant_data[\"aiType\"]\n",
    "        mean_pre_score = statistics.mean([round_data[\"relativeScore\"] for round_data in participant_data[\"preRounds\"]])\n",
    "        for phase in [\"pre\", \"ai\", \"post\"]:\n",
    "            for round_data in participant_data[f\"{phase}Rounds\"]:\n",
    "                participant_ids.append(participant_id)\n",
    "                groups.append(group)\n",
    "                phases.append(phase)\n",
    "                scores.append(round_data[\"relativeScore\"])\n",
    "                mean_pre_scores.append(mean_pre_score)\n",
    "    \n",
    "    data = pd.DataFrame({\n",
    "        'participant_id': participant_ids,\n",
    "        'group': groups,\n",
    "        'phase': phases,\n",
    "        'score': scores,\n",
    "        'pre_score': mean_pre_scores,\n",
    "    })\n",
    "    \n",
    "    model = mixedlm(\n",
    "        \"score ~ group * phase + pre_score\",  # formula: dependent variable ~ fixed effects\n",
    "        data,\n",
    "        groups=data[\"participant_id\"],  # random effects (participant-level intercepts)\n",
    "    )\n",
    "    \n",
    "    result = model.fit(method=\"powell\")\n",
    "    print(result.summary())\n",
    "    \n",
    "predict_participant_score_mixed_effects_model()"
   ]
  },
  {
   "cell_type": "markdown",
   "id": "c996e3e68180207b",
   "metadata": {},
   "source": [
    "### Rewards"
   ]
  },
  {
   "cell_type": "markdown",
   "id": "4f2411e3d318fbfa",
   "metadata": {},
   "source": [
    "#### Plot: Reward per trial in the AI phase"
   ]
  },
  {
   "cell_type": "code",
   "execution_count": 107,
   "id": "487bc2a1b6f0a264",
   "metadata": {
    "ExecuteTime": {
     "end_time": "2025-01-31T17:05:42.423420900Z",
     "start_time": "2025-01-31T17:05:41.971200500Z"
    }
   },
   "outputs": [
    {
     "data": {
      "image/png": "[encoded data removed]",
      "text/plain": [
       "<Figure size 135.484x90.9091 with 1 Axes>"
      ]
     },
     "metadata": {},
     "output_type": "display_data"
    },
    {
     "data": {
      "image/png": "[encoded data removed]",
      "text/plain": [
       "<Figure size 135.484x90.9091 with 1 Axes>"
      ]
     },
     "metadata": {},
     "output_type": "display_data"
    }
   ],
   "source": [
    "def plot_participant_reward_per_trial(show=True):\n",
    "    rewards_global = []\n",
    "    rewards_local = []\n",
    "    for participant_data in participants_data:\n",
    "        for round_data in participant_data[\"aiRounds\"]:\n",
    "            rewards = [trial[\"relativeReward\"] for trial in round_data[\"trials\"]]\n",
    "            if participant_data[\"aiType\"] == \"low\":\n",
    "                rewards_local.append(rewards)\n",
    "            else:\n",
    "                rewards_global.append(rewards)\n",
    "    trial_numbers = list(range(1, 21))\n",
    "    rewards_local = np.asarray(rewards_local)\n",
    "    rewards_global = np.asarray(rewards_global)\n",
    "    plt.plot(trial_numbers, np.mean(rewards_global, axis=0), label=\"global\", color=plot_colours[\"global\"])\n",
    "    plt.plot(trial_numbers, np.mean(rewards_local, axis=0), label=\"local\", color=plot_colours[\"local\"])\n",
    "    plt.gca().xaxis.set_major_locator(FixedLocator([1, 7, 14, 20]))\n",
    "    plt.gca().yaxis.set_major_locator(MultipleLocator(base=10))\n",
    "    std_global = np.std(rewards_global, axis=0)\n",
    "    std_local = np.std(rewards_local, axis=0)\n",
    "    ci_global = 1.96 * std_global / sqrt(len(rewards_global))\n",
    "    ci_local = 1.96 * std_local / sqrt(len(rewards_local))\n",
    "    plt.fill_between(trial_numbers, np.mean(rewards_global, axis=0) - ci_global, np.mean(rewards_global, axis=0) + ci_global, color=plot_colours[\"global\"], alpha=0.2, linewidth=0.0)\n",
    "    plt.fill_between(trial_numbers, np.mean(rewards_local, axis=0) - ci_local, np.mean(rewards_local, axis=0) + ci_local, color=plot_colours[\"local\"], alpha=0.2, linewidth=0.0)\n",
    "    plt.xlim(1, 20)\n",
    "    if show:\n",
    "        plt.ylim(min((np.mean(rewards_global, axis=0) - ci_global)[0], (np.mean(rewards_local, axis=0) - ci_global)[0]), max((np.mean(rewards_global, axis=0) + ci_global)[-1], (np.mean(rewards_local, axis=0) + ci_local)[-1]))\n",
    "    plt.xlabel(\"Trial\", labelpad=8, verticalalignment=\"center\")\n",
    "    plt.ylabel(\"Reward (\\%)\", loc='top')\n",
    "    set_axes_length(plot_width, plot_height)\n",
    "    if show:\n",
    "        plt.savefig(\"../figures/analysis_101/reward_per_trial_ai_phase.pdf\", bbox_inches='tight')\n",
    "        plt.show()\n",
    "\n",
    "\n",
    "def plot_participant_reward_per_trial_with_linear_regression():\n",
    "    trial_numbers = list(range(1, 21))\n",
    "    plot_participant_reward_per_trial(show=False)\n",
    "    # plot the mean linear regression reward as a line\n",
    "    with open(f\"../outputs/linear_regression_performance/linear_regression.json\", \"r\", encoding=\"utf-8\") as file:\n",
    "        linear_regression_data = json.load(file)\n",
    "        linear_regression_means = linear_regression_data[0][\"rewards_mean\"]\n",
    "        plt.plot(trial_numbers, linear_regression_means, color=plot_colours[\"distinctColours\"][3], linestyle=\"-\", label=\"linear regression\")\n",
    "    set_axes_length(plot_width, plot_height)\n",
    "    plt.savefig(\"../figures/analysis_101/reward_per_trial_ai_phase_with_linear_regression.pdf\", bbox_inches='tight')\n",
    "    plt.show()\n",
    "    \n",
    "plot_participant_reward_per_trial()\n",
    "plot_participant_reward_per_trial_with_linear_regression()"
   ]
  },
  {
   "cell_type": "markdown",
   "id": "ccd157570a6460ad",
   "metadata": {},
   "source": [
    "### AI adherence"
   ]
  },
  {
   "cell_type": "markdown",
   "id": "30f81c89118a71f7",
   "metadata": {},
   "source": [
    "#### Plot: Frequency of following the AI's suggestion per round vs. score"
   ]
  },
  {
   "cell_type": "code",
   "execution_count": 108,
   "id": "1c611dee2f3c908",
   "metadata": {
    "ExecuteTime": {
     "end_time": "2025-01-31T17:05:43.693109100Z",
     "start_time": "2025-01-31T17:05:43.364997300Z"
    }
   },
   "outputs": [
    {
     "data": {
      "image/png": "[encoded data removed]",
      "text/plain": [
       "<Figure size 135.484x90.9091 with 1 Axes>"
      ]
     },
     "metadata": {},
     "output_type": "display_data"
    }
   ],
   "source": [
    "def plot_followed_ai_vs_score():\n",
    "    participants_global = [participant_data for participant_data in participants_data if participant_data[\"aiType\"] == \"high\"]\n",
    "    participants_local = [participant_data for participant_data in participants_data if participant_data[\"aiType\"] == \"low\"]\n",
    "    followed_ai_local = [round_data[\"followedAiFrequency\"] for participant_data in participants_local for round_data in participant_data[\"aiRounds\"]]\n",
    "    followed_ai_global = [round_data[\"followedAiFrequency\"] for participant_data in participants_global for round_data in participant_data[\"aiRounds\"]]\n",
    "    scores_local = [round_data[\"relativeScore\"] for participant_data in participants_local for round_data in participant_data[\"aiRounds\"]]\n",
    "    scores_global = [round_data[\"relativeScore\"] for participant_data in participants_global for round_data in participant_data[\"aiRounds\"]]\n",
    "\n",
    "    local_line = np.polyfit(followed_ai_local, scores_local, 1)\n",
    "    global_line = np.polyfit(followed_ai_global, scores_global, 1)\n",
    "    xticks = np.linspace(0, 100, 1000)\n",
    "    plt.plot(xticks, np.polyval(global_line, xticks), color=plot_colours[\"global\"], label=\"global\")\n",
    "    plt.plot(xticks, np.polyval(local_line, xticks), color=plot_colours[\"local\"], label=\"local\")\n",
    "    plt.scatter(followed_ai_global, scores_global, color=plot_colours[\"global\"], s=15, alpha=0.2, marker=\".\", linewidths=0.4)\n",
    "    plt.scatter(followed_ai_local, scores_local, color=plot_colours[\"local\"], s=15, alpha=0.2, marker=\".\", linewidths=0.4)\n",
    "    plt.gca().yaxis.set_major_locator(MultipleLocator(25))\n",
    "    plt.gca().xaxis.set_major_locator(MultipleLocator(25))\n",
    "    \n",
    "    #plt.xlim(0, 100)\n",
    "    #plt.ylim(0, 100)\n",
    "    plt.xlabel(\"AI adherence (\\%)\", labelpad=8, verticalalignment=\"center\")\n",
    "    plt.ylabel(\"Score (\\%)\", loc='top')\n",
    "    set_axes_length(plot_width, plot_height)\n",
    "    plt.savefig(\"../figures/analysis_101/ai_followed_vs_score.pdf\", bbox_inches='tight')\n",
    "    plt.show()\n",
    "    \n",
    "plot_followed_ai_vs_score()"
   ]
  },
  {
   "cell_type": "markdown",
   "id": "6f84e32c7b3748b7",
   "metadata": {},
   "source": [
    "#### Plot: Frequency of following the AI's suggestion per trial"
   ]
  },
  {
   "cell_type": "code",
   "execution_count": 109,
   "id": "1efd664f0e909a63",
   "metadata": {
    "ExecuteTime": {
     "end_time": "2025-01-31T17:05:43.865966900Z",
     "start_time": "2025-01-31T17:05:43.696246600Z"
    }
   },
   "outputs": [
    {
     "data": {
      "image/png": "[encoded data removed]",
      "text/plain": [
       "<Figure size 135.484x90.9091 with 1 Axes>"
      ]
     },
     "metadata": {},
     "output_type": "display_data"
    }
   ],
   "source": [
    "def plot_ai_followed_per_trial(show=True):\n",
    "    ai_followed_global = []\n",
    "    ai_followed_local = []\n",
    "    for participant_data in participants_data:\n",
    "        for round_data in participant_data[\"aiRounds\"]:\n",
    "            ai_followed = [trial[\"followedAi\"] for trial in round_data[\"trials\"]]\n",
    "            if participant_data[\"aiType\"] == \"low\":\n",
    "                ai_followed_local.append(ai_followed)\n",
    "            else:\n",
    "                ai_followed_global.append(ai_followed)\n",
    "    trial_numbers = list(range(1, 21))\n",
    "    ai_followed_local = np.asarray(ai_followed_local)\n",
    "    ai_followed_global = np.asarray(ai_followed_global)\n",
    "    plt.plot(trial_numbers, np.mean(ai_followed_global, axis=0), label=\"global\", color=plot_colours[\"global\"])\n",
    "    plt.plot(trial_numbers, np.mean(ai_followed_local, axis=0), label=\"local\", color=plot_colours[\"local\"])\n",
    "    plt.xlim(1, 20)\n",
    "    if show == True:\n",
    "        plt.xlabel(\"Trial\", labelpad=8, verticalalignment=\"center\")\n",
    "        plt.ylabel(\"AI adherence (\\%)\", loc='top')\n",
    "        plt.gca().xaxis.set_major_locator(FixedLocator([1, 7, 14, 20]))\n",
    "        plt.gca().yaxis.set_major_locator(MultipleLocator(base=10))\n",
    "        set_axes_length(plot_width, plot_height)\n",
    "        plt.savefig(\"../figures/analysis_101/ai_followed_per_trial.pdf\", bbox_inches='tight')\n",
    "        plt.show()\n",
    "    \n",
    "plot_ai_followed_per_trial()"
   ]
  },
  {
   "cell_type": "markdown",
   "id": "90f33be753c27aeb",
   "metadata": {},
   "source": [
    "#### Mixed effects model: Predict whether participants follow the AI's suggestion\n",
    "##### Model assumption\n",
    "ai_followed ~ group * trial\n",
    "- ai_followed: whether the participant followed the AI's suggestion (0 or 100)\n",
    "- group: the AI condition (local or global)\n",
    "- trial: the trial number\n",
    "- group * trial: the interaction between the AI condition and the trial\n",
    "- random effect is added for each participant via participant_id\n",
    "##### Results interpretation\n",
    "- The local group is just as likely as the global group to follow the AI (p = 0.987).\n",
    "- The increase in following over trials is slightly less pronounced for the local group than for the global group, but this interaction is not significant (p = 0.528).\n",
    "- As trials progress, participants tend to follow the AI more often (p < 0.001)."
   ]
  },
  {
   "cell_type": "code",
   "execution_count": 110,
   "id": "26521c5810f2cf0b",
   "metadata": {
    "ExecuteTime": {
     "end_time": "2025-02-01T17:20:48.330245300Z",
     "start_time": "2025-02-01T17:20:47.668611600Z"
    }
   },
   "outputs": [
    {
     "name": "stdout",
     "output_type": "stream",
     "text": [
      "            Mixed Linear Model Regression Results\n",
      "==============================================================\n",
      "Model:               MixedLM  Dependent Variable:  ai_followed\n",
      "No. Observations:    11640    Method:              REML       \n",
      "No. Groups:          97       Scale:               1839.1403  \n",
      "Min. group size:     120      Log-Likelihood:      -60424.0270\n",
      "Max. group size:     120      Converged:           Yes        \n",
      "Mean group size:     120.0                                    \n",
      "--------------------------------------------------------------\n",
      "                    Coef.  Std.Err.   z    P>|z| [0.025 0.975]\n",
      "--------------------------------------------------------------\n",
      "Intercept           58.878    3.036 19.394 0.000 52.928 64.828\n",
      "group[T.low]        -0.071    4.457 -0.016 0.987 -8.807  8.665\n",
      "trial                0.682    0.094  7.246 0.000  0.498  0.867\n",
      "group[T.low]:trial  -0.087    0.138 -0.630 0.528 -0.358  0.184\n",
      "Group Var          413.123    1.455                           \n",
      "==============================================================\n",
      "\n"
     ]
    }
   ],
   "source": [
    "def predict_participant_followed_ai_mixed_effects_model():\n",
    "    participant_ids = []\n",
    "    groups = []\n",
    "    trial_nrs = []\n",
    "    ai_followed_frequencies = []\n",
    "    for participant_data in participants_data:\n",
    "        participant_id = participant_data[\"id\"]\n",
    "        group = participant_data[\"aiType\"]\n",
    "        for round_data in participant_data[\"aiRounds\"]:\n",
    "            trial_nr = 1\n",
    "            for trial in round_data[\"trials\"]:\n",
    "                participant_ids.append(participant_id)\n",
    "                groups.append(group)\n",
    "                trial_nrs.append(trial_nr)\n",
    "                ai_followed_frequencies.append(trial[\"followedAi\"])\n",
    "                trial_nr += 1\n",
    "    \n",
    "    data = pd.DataFrame({\n",
    "        'participant_id': participant_ids,\n",
    "        'group': groups,\n",
    "        'trial': trial_nrs,\n",
    "        'ai_followed': ai_followed_frequencies,\n",
    "    })\n",
    "    \n",
    "    model = mixedlm(\n",
    "        \"ai_followed ~ group * trial\",  # formula: dependent variable ~ fixed effects\n",
    "        groups=data[\"participant_id\"],  # random effect for participants\n",
    "        data=data\n",
    "    )\n",
    "    \n",
    "    result = model.fit(method=\"powell\")\n",
    "    print(result.summary())\n",
    "    \n",
    "predict_participant_followed_ai_mixed_effects_model()"
   ]
  },
  {
   "cell_type": "markdown",
   "id": "631355e5abf94ac2",
   "metadata": {},
   "source": [
    "### Counterfactual AI advisor"
   ]
  },
  {
   "cell_type": "markdown",
   "id": "2be890e7f868b",
   "metadata": {},
   "source": [
    "#### Plot: Frequency of following the counterfactual AI's suggestion per trial"
   ]
  },
  {
   "cell_type": "code",
   "execution_count": 111,
   "id": "8acc0ca1d20e5e41",
   "metadata": {
    "ExecuteTime": {
     "end_time": "2025-01-31T17:05:44.927553300Z",
     "start_time": "2025-01-31T17:05:44.557618700Z"
    }
   },
   "outputs": [
    {
     "data": {
      "image/png": "[encoded data removed]",
      "text/plain": [
       "<Figure size 135.484x90.9091 with 1 Axes>"
      ]
     },
     "metadata": {},
     "output_type": "display_data"
    }
   ],
   "source": [
    "def plot_counterfactual_ai_followed_per_trial():\n",
    "    other_ai_followed_global = []\n",
    "    other_ai_followed_local = []\n",
    "    for participant_data in participants_data:\n",
    "        for round_data in participant_data[\"aiRounds\"]:\n",
    "            other_ai_followed = [trial[\"followedOtherAi\"] for trial in round_data[\"trials\"]]\n",
    "            if participant_data[\"aiType\"] == \"low\":\n",
    "                other_ai_followed_local.append(other_ai_followed)\n",
    "            else:\n",
    "                other_ai_followed_global.append(other_ai_followed)\n",
    "    trial_numbers = list(range(1, 21))\n",
    "    plt.plot(trial_numbers, np.mean(other_ai_followed_global, axis=0), label=\"global\", color=plot_colours[\"global\"], linestyle=\"--\")\n",
    "    plt.plot(trial_numbers, np.mean(other_ai_followed_local, axis=0), label=\"local\", color=plot_colours[\"local\"], linestyle=\"--\")\n",
    "    # plt.legend(loc=\"lower right\")\n",
    "    plt.gca().xaxis.set_major_locator(FixedLocator([1, 7, 14, 20]))\n",
    "    plt.gca().yaxis.set_major_locator(MultipleLocator(base=20))\n",
    "    plt.xlim(1, 20)\n",
    "    plt.xlabel(\"Trial\", labelpad=8, verticalalignment=\"center\")\n",
    "    plt.ylabel(\"AI adherence (\\%)\", loc='top')\n",
    "    set_axes_length(plot_width, plot_height)\n",
    "    plt.savefig(\"../figures/analysis_101/counterfactual_ai_followed_per_trial.pdf\", bbox_inches='tight')\n",
    "    # also plot the actual AI adherence per trial\n",
    "    plot_ai_followed_per_trial(show=False)\n",
    "    set_axes_length(plot_width, plot_height)\n",
    "    plt.savefig(\"../figures/analysis_101/both_ai_followed_per_trial.pdf\", bbox_inches='tight')\n",
    "    plt.show()\n",
    "    \n",
    "plot_counterfactual_ai_followed_per_trial()"
   ]
  },
  {
   "cell_type": "markdown",
   "id": "a804b34a7b403bc8",
   "metadata": {},
   "source": [
    "#### Mixed effects model: Predict whether participants follow the counterfactual AI's suggestion\n",
    "##### Model assumption\n",
    "counterfactual_ai_followed ~ group * ai_followed + trial\n",
    "- counterfactual_ai_followed: whether the participant followed the counterfactual AI's suggestion (0 or 100)\n",
    "- group: the AI condition (local or global)\n",
    "- trial: the trial number\n",
    "- ai_followed: whether the participant followed the AI's suggestion (0 or 100)\n",
    "- group * ai_followed: the interaction between the AI condition and the whether the actual AI's suggestion was followed\n",
    "- random effect is added for each participant via participant_id\n",
    "##### Results interpretation\n",
    "- As trials progress, participants tend to follow the counterfactual AI more often (p < 0.001).\n",
    "- Controlling for group and trial, participants are more likely to follow the counterfactual AI when they follow the actual AI (p < 0.001).\n",
    "- The effect of following the actual AI's suggestion is weaker on the likelihood of following the counterfactual AI in the local group compared to the global group. The effect is significant (p < 0.001)."
   ]
  },
  {
   "cell_type": "code",
   "execution_count": 112,
   "id": "5e1b651cc056d056",
   "metadata": {
    "ExecuteTime": {
     "end_time": "2025-02-01T13:47:52.505613600Z",
     "start_time": "2025-02-01T13:47:51.768787400Z"
    }
   },
   "outputs": [
    {
     "name": "stdout",
     "output_type": "stream",
     "text": [
      "                 Mixed Linear Model Regression Results\n",
      "========================================================================\n",
      "Model:            MixedLM Dependent Variable: counterfactual_ai_followed\n",
      "No. Observations: 11640   Method:             REML                      \n",
      "No. Groups:       97      Scale:              1463.6357                 \n",
      "Min. group size:  120     Log-Likelihood:     -59072.8039               \n",
      "Max. group size:  120     Converged:          Yes                       \n",
      "Mean group size:  120.0                                                 \n",
      "------------------------------------------------------------------------\n",
      "                             Coef.  Std.Err.   z    P>|z|  [0.025 0.975]\n",
      "------------------------------------------------------------------------\n",
      "Intercept                    12.260    2.136  5.741 0.000   8.074 16.446\n",
      "group[T.low]                 -4.631    3.002 -1.543 0.123 -10.515  1.252\n",
      "ai_followed                   0.348    0.011 30.568 0.000   0.326  0.370\n",
      "group[T.low]:ai_followed     -0.066    0.016 -4.001 0.000  -0.098 -0.034\n",
      "trial                         1.856    0.062 30.071 0.000   1.735  1.977\n",
      "Group Var                   177.177    0.721                            \n",
      "========================================================================\n",
      "\n"
     ]
    }
   ],
   "source": [
    "def predict_participant_followed_counterfactual_ai_mixed_effects_model():\n",
    "    participant_ids = []\n",
    "    groups = []\n",
    "    trial_nrs = []\n",
    "    ai_followeds = []\n",
    "    counterfactual_ai_followeds = []\n",
    "    for participant_data in participants_data:\n",
    "        participant_id = participant_data[\"id\"]\n",
    "        group = participant_data[\"aiType\"]\n",
    "        for round_data in participant_data[\"aiRounds\"]:\n",
    "            trial_nr = 1\n",
    "            for trial in round_data[\"trials\"]:\n",
    "                participant_ids.append(participant_id)\n",
    "                groups.append(group)\n",
    "                trial_nrs.append(trial_nr)\n",
    "                ai_followeds.append(trial[\"followedAi\"])\n",
    "                counterfactual_ai_followeds.append(trial[\"followedOtherAi\"])\n",
    "                trial_nr += 1\n",
    "    \n",
    "    data = pd.DataFrame({\n",
    "        'participant_id': participant_ids,\n",
    "        'group': groups,\n",
    "        'trial': trial_nrs,\n",
    "        'counterfactual_ai_followed': counterfactual_ai_followeds,\n",
    "        'ai_followed': ai_followeds,\n",
    "    })\n",
    "    \n",
    "    model = mixedlm(\n",
    "        \"counterfactual_ai_followed ~ group * ai_followed + trial\",  # formula: dependent variable ~ fixed effects\n",
    "        groups=data[\"participant_id\"],  # random effect for participants\n",
    "        data=data\n",
    "    )\n",
    "    \n",
    "    result = model.fit(method=\"powell\")\n",
    "    print(result.summary())\n",
    "    \n",
    "predict_participant_followed_counterfactual_ai_mixed_effects_model()"
   ]
  },
  {
   "cell_type": "markdown",
   "id": "fd08c26af552c5b8",
   "metadata": {},
   "source": [
    "#### Plot: Counterfactual AI value per trial"
   ]
  },
  {
   "cell_type": "code",
   "execution_count": 113,
   "id": "c941019a37fd9f85",
   "metadata": {
    "ExecuteTime": {
     "end_time": "2025-01-31T17:05:45.884837400Z",
     "start_time": "2025-01-31T17:05:45.636825500Z"
    }
   },
   "outputs": [
    {
     "data": {
      "image/png": "[encoded data removed]",
      "text/plain": [
       "<Figure size 135.484x90.9091 with 1 Axes>"
      ]
     },
     "metadata": {},
     "output_type": "display_data"
    }
   ],
   "source": [
    "def plot_mean_counterfactual_ai_value_per_trial():\n",
    "    ai_values_local = []\n",
    "    ai_values_global = []\n",
    "    counterfactual_ai_values_local = []\n",
    "    counterfactual_ai_values_global = []\n",
    "    for participant_data in participants_data:\n",
    "        for round_data in participant_data[\"aiRounds\"]:\n",
    "            ai_values = [trial[\"relativeAiValue\"] for trial in round_data[\"trials\"]]\n",
    "            counterfactual_ai_values = [trial[\"relativeOtherAiReward\"] for trial in round_data[\"trials\"]]\n",
    "            if participant_data[\"aiType\"] == \"low\":\n",
    "                ai_values_local.append(ai_values)\n",
    "                counterfactual_ai_values_local.append(counterfactual_ai_values)\n",
    "            else:\n",
    "                ai_values_global.append(ai_values)\n",
    "                counterfactual_ai_values_global.append(counterfactual_ai_values)\n",
    "    trial_numbers = list(range(1, 21))\n",
    "    ai_values_local = np.asarray(ai_values_local)\n",
    "    ai_values_global = np.asarray(ai_values_global)\n",
    "    plt.plot(trial_numbers, np.mean(ai_values_global, axis=0), label=\"global\", color=plot_colours[\"global\"])\n",
    "    plt.plot(trial_numbers, np.mean(ai_values_local, axis=0), label=\"local\", color=plot_colours[\"local\"])\n",
    "    plt.plot(trial_numbers, np.mean(counterfactual_ai_values_global, axis=0), label=\"global counterfactual\", color=plot_colours[\"global\"], linestyle=\":\")\n",
    "    plt.plot(trial_numbers, np.mean(counterfactual_ai_values_local, axis=0), label=\"local counterfactual\", color=plot_colours[\"local\"], linestyle=\":\")\n",
    "    plt.gca().xaxis.set_major_locator(FixedLocator([1, 7, 14, 20]))\n",
    "    plt.gca().yaxis.set_major_locator(MultipleLocator(base=5))\n",
    "    plt.xlim(1, 20)\n",
    "    plt.xlabel(\"Trial\", labelpad=8, verticalalignment=\"center\")\n",
    "    plt.ylabel(\"AI value (\\%)\", loc='top')\n",
    "    set_axes_length(plot_width, plot_height)\n",
    "    plt.savefig(\"../figures/analysis_101/counterfactual_ai_value_per_trial.pdf\", bbox_inches='tight')\n",
    "    plt.show()\n",
    "    \n",
    "plot_mean_counterfactual_ai_value_per_trial()"
   ]
  },
  {
   "cell_type": "markdown",
   "id": "b943943279a36bae",
   "metadata": {},
   "source": [
    "#### Mixed effects model: Predict the counterfactual AI value\n",
    "##### Model assumption\n",
    "ai_value ~ group * ai_type\n",
    "- ai_value: the mean reward associated with an AI suggestion\n",
    "- group: the AI condition (local or global)\n",
    "- ai_type: actual or counterfactual\n",
    "- group * ai_type: the interaction between the AI type and the AI's suggestion value\n",
    "- random effect is added for each participant via participant_id\n",
    "##### Results interpretation\n",
    "- The local group's AI value doesn't differ from the global group (p = 0.693).\n",
    "- The difference between actual and counterfactual AI values does not significantly differ between local and global conditions (p = 0.439)."
   ]
  },
  {
   "cell_type": "code",
   "execution_count": 114,
   "id": "a32bacf2ae166ee7",
   "metadata": {
    "ExecuteTime": {
     "end_time": "2025-02-01T12:32:24.672588900Z",
     "start_time": "2025-02-01T12:32:22.636531700Z"
    }
   },
   "outputs": [
    {
     "name": "stdout",
     "output_type": "stream",
     "text": [
      "                      Mixed Linear Model Regression Results\n",
      "==================================================================================\n",
      "Model:                     MixedLM         Dependent Variable:         ai_value   \n",
      "No. Observations:          23280           Method:                     REML       \n",
      "No. Groups:                97              Scale:                      120.2691   \n",
      "Min. group size:           240             Log-Likelihood:             -88947.2206\n",
      "Max. group size:           240             Converged:                  Yes        \n",
      "Mean group size:           240.0                                                  \n",
      "----------------------------------------------------------------------------------\n",
      "                                       Coef.  Std.Err.    z    P>|z| [0.025 0.975]\n",
      "----------------------------------------------------------------------------------\n",
      "Intercept                              61.995    0.537 115.501 0.000 60.943 63.047\n",
      "group[T.low]                           -0.088    0.788  -0.111 0.911 -1.632  1.457\n",
      "ai_type[T.counterfactual]               0.566    0.196   2.883 0.004  0.181  0.951\n",
      "group[T.low]:ai_type[T.counterfactual] -0.223    0.288  -0.774 0.439 -0.788  0.342\n",
      "Group Var                              13.979    0.192                            \n",
      "==================================================================================\n",
      "\n"
     ]
    }
   ],
   "source": [
    "def predict_actual_and_counterfactual_ai_value_mixed_effects_model():\n",
    "    participant_ids = []\n",
    "    groups = []\n",
    "    ai_values = []\n",
    "    ai_types = []\n",
    "    for participant_data in participants_data:\n",
    "        participant_id = participant_data[\"id\"]\n",
    "        group = participant_data[\"aiType\"]\n",
    "        for round_data in participant_data[\"aiRounds\"]:\n",
    "            for trial in round_data[\"trials\"]:\n",
    "                participant_ids.append(participant_id)\n",
    "                participant_ids.append(participant_id)\n",
    "                groups.append(group)\n",
    "                groups.append(group)\n",
    "                ai_values.append(trial[\"relativeAiValue\"])\n",
    "                ai_values.append(trial[\"relativeOtherAiReward\"])\n",
    "                ai_types.append(\"actual\")\n",
    "                ai_types.append(\"counterfactual\")\n",
    "    \n",
    "    data = pd.DataFrame({\n",
    "        'participant_id': participant_ids,\n",
    "        'group': groups,\n",
    "        'ai_value': ai_values,\n",
    "        'ai_type': ai_types,\n",
    "    })\n",
    "    \n",
    "    model = mixedlm(\n",
    "        \"ai_value ~ group * ai_type\",  # formula: dependent variable ~ fixed effects\n",
    "        groups=data[\"participant_id\"],  # random effect for participants\n",
    "        data=data\n",
    "    )\n",
    "    \n",
    "    result = model.fit(method=\"powell\")\n",
    "    print(result.summary())\n",
    "    \n",
    "predict_actual_and_counterfactual_ai_value_mixed_effects_model()"
   ]
  },
  {
   "cell_type": "markdown",
   "id": "1833f7584898abbf",
   "metadata": {},
   "source": [
    "### Ratings"
   ]
  },
  {
   "cell_type": "markdown",
   "id": "3b1d76cee2817aa8",
   "metadata": {},
   "source": [
    "#### Plot: Participants' score vs AI rating"
   ]
  },
  {
   "cell_type": "code",
   "execution_count": 115,
   "id": "716adf7f8304925e",
   "metadata": {
    "ExecuteTime": {
     "end_time": "2025-01-31T17:05:47.099809400Z",
     "start_time": "2025-01-31T17:05:46.855722600Z"
    }
   },
   "outputs": [
    {
     "data": {
      "image/png": "[encoded data removed]",
      "text/plain": [
       "<Figure size 135.484x90.9091 with 1 Axes>"
      ]
     },
     "metadata": {},
     "output_type": "display_data"
    }
   ],
   "source": [
    "def plot_score_vs_rating():\n",
    "    participants_global = [participant_data for participant_data in participants_data if participant_data[\"aiType\"] == \"high\"]\n",
    "    participants_local = [participant_data for participant_data in participants_data if participant_data[\"aiType\"] == \"low\"]\n",
    "    ratings_global = [round_data[\"usefulAiRound\"] for participant_data in participants_global for round_data in participant_data[\"aiRounds\"]]\n",
    "    scores_global = [round_data[\"relativeScore\"] for participant_data in participants_global for round_data in participant_data[\"aiRounds\"]]\n",
    "    ratings_local = [round_data[\"usefulAiRound\"] for participant_data in participants_local for round_data in participant_data[\"aiRounds\"]]\n",
    "    scores_local = [round_data[\"relativeScore\"] for participant_data in participants_local for round_data in participant_data[\"aiRounds\"]]\n",
    "\n",
    "    global_line = np.polyfit(scores_global, ratings_global, 1)\n",
    "    local_line = np.polyfit(scores_local, ratings_local, 1)\n",
    "    xticks = np.linspace(0, 100, 1000)\n",
    "    plt.plot(xticks, np.polyval(global_line, xticks), color=plot_colours[\"global\"], label=\"global\")\n",
    "    plt.plot(xticks, np.polyval(local_line, xticks), color=plot_colours[\"local\"], label=\"local\")\n",
    "    plt.scatter(scores_global, ratings_global, color=plot_colours[\"global\"], s=15, alpha=0.2, marker=\".\", linewidths=0.4)\n",
    "    plt.scatter(scores_local, ratings_local, color=plot_colours[\"local\"], s=15, alpha=0.2, marker=\".\", linewidths=0.4)\n",
    "    plt.gca().yaxis.set_major_locator(FixedLocator([1, 3, 5, 7]))\n",
    "    plt.gca().xaxis.set_major_locator(MultipleLocator(25))\n",
    "    \n",
    "    plt.xlim(0, 100)\n",
    "    plt.ylim(0.6, 7.4)\n",
    "    plt.xlabel(\"Score (\\%)\", labelpad=8, verticalalignment=\"center\")\n",
    "    plt.ylabel(\"AI usefulness\", loc='top')\n",
    "    set_axes_length(plot_width, plot_height)\n",
    "    plt.savefig(\"../figures/analysis_101/human_score_vs_ai_rating.pdf\", bbox_inches='tight')\n",
    "    plt.show()\n",
    "    \n",
    "plot_score_vs_rating()"
   ]
  },
  {
   "cell_type": "markdown",
   "id": "132bf238e44156e1",
   "metadata": {},
   "source": [
    "#### Mixed effects model: Predict participants' AI rating\n",
    "##### Model assumption\n",
    "rating ~ group * score + ai_followed\n",
    "- rating: the participant's AI rating at the end of a round\n",
    "- group: the AI condition (local or global)\n",
    "- score: the participant's score in the round\n",
    "- ai_followed: frequency of the participant following the AI's suggestion (0 to 100)\n",
    "- group * score: the interaction between the AI condition and the score\n",
    "- random effect is added for each participant via participant_id\n",
    "##### Results interpretation\n",
    "- Scores are predictive of AI ratings (p < 0.001).\n",
    "- **While score positively predicts ratings in both groups, the relationship is significantly weaker for the local group (p = 0.022).**\n",
    "- Following AI suggestions more frequently is associated with higher AI ratings (p < 0.001)."
   ]
  },
  {
   "cell_type": "markdown",
   "id": "9c5ecf740159cfdd",
   "metadata": {},
   "source": [
    "#### Mixed effects model: Predict participants' AI adherence rating\n",
    "##### Model assumption\n",
    "followed_ai_rating ~ group * ai_followed_frequency + group * usefulness_rating\n",
    "- followed_ai_rating: the participant's rating of how often they followed the AI's suggestion\n",
    "- group: the AI condition (local or global)\n",
    "- ai_followed_frequency: the frequency of following the AI's suggestion in a round\n",
    "- usefulness_rating: the participant's rating of how useful the AI's suggestions were\n",
    "- group * ai_followed_frequency: the interaction between the AI condition and the frequency of following the AI's suggestion\n",
    "- group * usefulness_rating: the interaction between the AI condition and the usefulness rating\n",
    "- random effect is added for each participant via participant_id\n",
    "##### Results interpretation\n",
    "- **Participants in the local group rate following the AI's suggestions significantly lower than participants in the global group (p < 0.001).**\n",
    "- Actual AI adherence and usefulness rating have no detectable effect on AI adherence rating, even when controlling for group (p = 1.000)."
   ]
  },
  {
   "cell_type": "code",
   "execution_count": 116,
   "id": "f9e71e0cc2325d1e",
   "metadata": {
    "ExecuteTime": {
     "end_time": "2025-02-01T15:57:14.236167600Z",
     "start_time": "2025-02-01T15:57:13.183878Z"
    }
   },
   "outputs": [
    {
     "name": "stdout",
     "output_type": "stream",
     "text": [
      "                     Mixed Linear Model Regression Results\n",
      "================================================================================\n",
      "Model:                  MixedLM      Dependent Variable:      followed_ai_rating\n",
      "No. Observations:       582          Method:                  REML              \n",
      "No. Groups:             97           Scale:                   0.0000            \n",
      "Min. group size:        6            Log-Likelihood:          7525.7542         \n",
      "Max. group size:        6            Converged:               Yes               \n",
      "Mean group size:        6.0                                                     \n",
      "--------------------------------------------------------------------------------\n",
      "                                   Coef.    Std.Err.    z    P>|z| [0.025 0.975]\n",
      "--------------------------------------------------------------------------------\n",
      "Intercept                           4.500       0.111 40.430 0.000  4.282  4.718\n",
      "group[T.low]                       -0.611       0.149 -4.102 0.000 -0.903 -0.319\n",
      "ai_followed_frequency               0.000       0.000  0.000 1.000 -0.000  0.000\n",
      "group[T.low]:ai_followed_frequency  0.000       0.000  0.000 1.000 -0.000  0.000\n",
      "usefulness_rating                   0.000       0.000  0.000 1.000 -0.000  0.000\n",
      "group[T.low]:usefulness_rating      0.000       0.000  0.000 1.000 -0.000  0.000\n",
      "Group Var                           0.311 1686728.549                           \n",
      "================================================================================\n",
      "\n"
     ]
    }
   ],
   "source": [
    "def predict_participant_followed_ai_rating_mixed_effects_model():\n",
    "    participant_ids = []\n",
    "    groups = []\n",
    "    followed_ai_ratings = []\n",
    "    ai_followed_frequencies = []\n",
    "    usefulness_ratings = []\n",
    "    for participant_data in participants_data:\n",
    "        participant_id = participant_data[\"id\"]\n",
    "        group = participant_data[\"aiType\"]\n",
    "        followed_ai_rating = participant_data[\"followedAiRating\"]\n",
    "        for round_data in participant_data[\"aiRounds\"]:\n",
    "            followed_ai_frequency = round_data[\"followedAiFrequency\"]\n",
    "            usefulness_rating = round_data[\"usefulAiRound\"]\n",
    "            participant_ids.append(participant_id)\n",
    "            groups.append(group)\n",
    "            followed_ai_ratings.append(followed_ai_rating)\n",
    "            ai_followed_frequencies.append(followed_ai_frequency)\n",
    "            usefulness_ratings.append(usefulness_rating)\n",
    "    \n",
    "    data = pd.DataFrame({\n",
    "        'participant_id': participant_ids,\n",
    "        'group': groups,\n",
    "        'followed_ai_rating': followed_ai_ratings,\n",
    "        'ai_followed_frequency': ai_followed_frequencies,\n",
    "        'usefulness_rating': usefulness_ratings,\n",
    "    })\n",
    "    \n",
    "    model = mixedlm(\n",
    "        \"followed_ai_rating ~ group * ai_followed_frequency + group * usefulness_rating\",  # formula: dependent variable ~ fixed effects\n",
    "        groups=data[\"participant_id\"],  # random effect for participants\n",
    "        data=data\n",
    "    )\n",
    "    \n",
    "    result = model.fit(method=\"powell\")\n",
    "    print(result.summary())\n",
    "    \n",
    "predict_participant_followed_ai_rating_mixed_effects_model()"
   ]
  },
  {
   "cell_type": "markdown",
   "id": "d10ad98b66310b67",
   "metadata": {},
   "source": [
    "#### Ratings means and standard deviations"
   ]
  },
  {
   "cell_type": "code",
   "execution_count": 117,
   "id": "b0ee2bd8053154b3",
   "metadata": {
    "ExecuteTime": {
     "end_time": "2025-02-01T15:15:09.898755300Z",
     "start_time": "2025-02-01T15:15:09.876954400Z"
    }
   },
   "outputs": [
    {
     "name": "stdout",
     "output_type": "stream",
     "text": [
      "Final usefulness rating\n",
      "Global: mean = 5, std = 1.5592859099663563\n",
      "Local: mean = 4.555555555555555, std = 1.5602382620431516\n",
      "\n",
      "Round usefulness rating\n",
      "Global: mean = 4.785256410256411, std = 1.8079959766900107\n",
      "Local: mean = 4.181481481481481, std = 1.8088047845819133\n",
      "\n",
      "Adherence rating\n",
      "Global: mean = 5.038461538461538, std = 1.4136801987628098\n",
      "Local: mean = 4.777777777777778, std = 1.8076716426599073\n"
     ]
    }
   ],
   "source": [
    "def print_ratings_means_and_std():\n",
    "    usefulness_ratings_global = []\n",
    "    usefulness_ratings_local = []\n",
    "    usefulness_rounds_ratings_global = []\n",
    "    usefulness_rounds_ratings_local = []\n",
    "    adherence_ratings_global = []\n",
    "    adherence_ratings_local = []\n",
    "    for participant_data in participants_data:\n",
    "        if participant_data[\"aiType\"] == \"low\":\n",
    "            usefulness_ratings_local.append(participant_data[\"usefulAiRating\"])\n",
    "            adherence_ratings_local.append(participant_data[\"followedAiRating\"])\n",
    "        else:\n",
    "            usefulness_ratings_global.append(participant_data[\"usefulAiRating\"])\n",
    "            adherence_ratings_global.append(participant_data[\"followedAiRating\"])\n",
    "        for round_data in participant_data[\"aiRounds\"]:\n",
    "            if participant_data[\"aiType\"] == \"low\":\n",
    "                usefulness_rounds_ratings_local.append(round_data[\"usefulAiRound\"])\n",
    "            else:\n",
    "                usefulness_rounds_ratings_global.append(round_data[\"usefulAiRound\"])\n",
    "    print(\"Final usefulness rating\")\n",
    "    print(f\"Global: mean = {statistics.mean(usefulness_ratings_global)}, std = {statistics.stdev(usefulness_ratings_global)}\")\n",
    "    print(f\"Local: mean = {statistics.mean(usefulness_ratings_local)}, std = {statistics.stdev(usefulness_ratings_local)}\")\n",
    "    print(\"\\nRound usefulness rating\")\n",
    "    print(f\"Global: mean = {statistics.mean(usefulness_rounds_ratings_global)}, std = {statistics.stdev(usefulness_rounds_ratings_global)}\")\n",
    "    print(f\"Local: mean = {statistics.mean(usefulness_rounds_ratings_local)}, std = {statistics.stdev(usefulness_rounds_ratings_local)}\")\n",
    "    print(\"\\nAdherence rating\")\n",
    "    print(f\"Global: mean = {statistics.mean(adherence_ratings_global)}, std = {statistics.stdev(adherence_ratings_global)}\")\n",
    "    print(f\"Local: mean = {statistics.mean(adherence_ratings_local)}, std = {statistics.stdev(adherence_ratings_local)}\")\n",
    "    \n",
    "print_ratings_means_and_std()"
   ]
  },
  {
   "cell_type": "markdown",
   "id": "f7ca897811737460",
   "metadata": {},
   "source": [
    "### AI values"
   ]
  },
  {
   "cell_type": "markdown",
   "id": "893ba314f56e5185",
   "metadata": {},
   "source": [
    "#### Plot: Average AI value vs participant reward (advice followed, not followed, and both)"
   ]
  },
  {
   "cell_type": "code",
   "execution_count": 118,
   "id": "96f42eb4ddf8b149",
   "metadata": {
    "ExecuteTime": {
     "end_time": "2025-01-31T17:05:50.491122900Z",
     "start_time": "2025-01-31T17:05:49.191113800Z"
    }
   },
   "outputs": [
    {
     "name": "stdout",
     "output_type": "stream",
     "text": [
      "AI advice followed\n"
     ]
    },
    {
     "data": {
      "image/png": "[encoded data removed]",
      "text/plain": [
       "<Figure size 135.484x90.9091 with 1 Axes>"
      ]
     },
     "metadata": {},
     "output_type": "display_data"
    },
    {
     "name": "stdout",
     "output_type": "stream",
     "text": [
      "AI advice not followed\n"
     ]
    },
    {
     "data": {
      "image/png": "[encoded data removed]",
      "text/plain": [
       "<Figure size 135.484x90.9091 with 1 Axes>"
      ]
     },
     "metadata": {},
     "output_type": "display_data"
    },
    {
     "name": "stdout",
     "output_type": "stream",
     "text": [
      "Both\n"
     ]
    },
    {
     "data": {
      "image/png": "[encoded data removed]",
      "text/plain": [
       "<Figure size 135.484x90.9091 with 1 Axes>"
      ]
     },
     "metadata": {},
     "output_type": "display_data"
    }
   ],
   "source": [
    "def plot_ai_vs_participant_reward():\n",
    "    ai_values_global = []\n",
    "    participant_rewards_global = []\n",
    "    ai_values_local = []\n",
    "    participant_rewards_local = []\n",
    "    ai_followed_global = []\n",
    "    ai_followed_local = []\n",
    "    for participant_data in participants_data:\n",
    "        for round_data in participant_data[\"aiRounds\"]:\n",
    "            for trial in round_data[\"trials\"]:\n",
    "                ai_value = trial[\"relativeAiValue\"]\n",
    "                participant_reward = trial[\"relativeReward\"]\n",
    "                ai_followed = trial[\"followedAi\"]\n",
    "                if participant_data[\"aiType\"] == \"low\":\n",
    "                    ai_values_local.append(ai_value)\n",
    "                    participant_rewards_local.append(participant_reward)\n",
    "                    ai_followed_local.append(ai_followed)\n",
    "                else:\n",
    "                    ai_values_global.append(ai_value)\n",
    "                    participant_rewards_global.append(participant_reward)\n",
    "                    ai_followed_global.append(ai_followed)    \n",
    "    for followed_setting in [\"followed\", \"not_followed\", \"both\"]:\n",
    "        if followed_setting == \"both\":\n",
    "            print(\"Both\")\n",
    "            filename = \"ai_vs_human_reward\"\n",
    "            ai_values_global_to_plot = ai_values_global[:]\n",
    "            participant_rewards_global_to_plot = participant_rewards_global[:]\n",
    "            ai_values_local_to_plot = ai_values_local[:]\n",
    "            participant_rewards_local_to_plot = participant_rewards_local[:]\n",
    "        elif followed_setting == \"followed\":\n",
    "            print(\"AI advice followed\")\n",
    "            filename = \"ai_vs_human_reward_ai_followed\"\n",
    "            ai_values_global_to_plot = [ai_values_global[i] for i in range(len(ai_values_global)) if ai_followed_global[i] == 100]\n",
    "            participant_rewards_global_to_plot = [participant_rewards_global[i] for i in range(len(ai_values_global)) if ai_followed_global[i] == 100]\n",
    "            ai_values_local_to_plot = [ai_values_local[i] for i in range(len(ai_values_local)) if ai_followed_local[i] == 100]\n",
    "            participant_rewards_local_to_plot = [participant_rewards_local[i] for i in range(len(ai_values_local)) if ai_followed_local[i] == 100]\n",
    "        else:\n",
    "            print(\"AI advice not followed\")\n",
    "            filename = \"ai_vs_human_reward_ai_not_followed\"\n",
    "            ai_values_global_to_plot = [ai_values_global[i] for i in range(len(ai_values_global)) if ai_followed_global[i] == 0]\n",
    "            participant_rewards_global_to_plot = [participant_rewards_global[i] for i in range(len(ai_values_global)) if ai_followed_global[i] == 0]\n",
    "            ai_values_local_to_plot = [ai_values_local[i] for i in range(len(ai_values_local)) if ai_followed_local[i] == 0]\n",
    "            participant_rewards_local_to_plot = [participant_rewards_local[i] for i in range(len(ai_values_local)) if ai_followed_local[i] == 0]\n",
    "        global_line = np.polyfit(ai_values_global_to_plot, participant_rewards_global_to_plot, 1)\n",
    "        local_line = np.polyfit(ai_values_local_to_plot, participant_rewards_local_to_plot, 1)\n",
    "        xticks = np.linspace(0, 100, 1000)\n",
    "        plt.plot(xticks, np.polyval(global_line, xticks), color=plot_colours[\"global\"], label=\"global\")\n",
    "        plt.plot(xticks, np.polyval(local_line, xticks), color=plot_colours[\"local\"], label=\"local\")\n",
    "        nr_points = len(ai_values_global_to_plot) + len(ai_values_local_to_plot)\n",
    "        plt.scatter(ai_values_global_to_plot, participant_rewards_global_to_plot, color=plot_colours[\"global\"], s=2, alpha=1000/nr_points, linewidths=0)\n",
    "        plt.scatter(ai_values_local_to_plot, participant_rewards_local_to_plot, color=plot_colours[\"local\"], s=2, alpha=1000/nr_points, linewidths=0)\n",
    "        plt.gca().xaxis.set_major_locator(FixedLocator([0, 25, 50, 75, 100]))\n",
    "        plt.gca().yaxis.set_major_locator(FixedLocator([0, 25, 50, 75, 100]))\n",
    "        plt.ylim(0, 100)\n",
    "        plt.xlim(0, 100)\n",
    "    \n",
    "        plt.xlabel(\"AI value (\\%)\", labelpad=8, verticalalignment=\"center\")\n",
    "        plt.ylabel(\"Reward (\\%)\", loc='top')\n",
    "        set_axes_length(plot_width, plot_height)\n",
    "        plt.savefig(f\"../figures/analysis_101/{filename}.pdf\", bbox_inches='tight')\n",
    "        plt.show()\n",
    "\n",
    "plot_ai_vs_participant_reward()"
   ]
  },
  {
   "cell_type": "markdown",
   "id": "56fc5671560a1bf5",
   "metadata": {},
   "source": [
    "#### Mixed effects model: Predict participants' reward when the AI suggestions are followed\n",
    "##### Model assumption\n",
    "participant_reward ~ group * ai_value + pre_score + max_participant_reward\n",
    "- participant_reward: the participant's reward in a trial\n",
    "- group: the AI condition (local or global)\n",
    "- ai_value: the mean reward associated with an AI suggestion\n",
    "- pre_score: the participant's mean score in the pre-treatment phase\n",
    "- max_participant_reward: the maximum reward the participant has achieved so far in the round\n",
    "- group * ai_value: the interaction between the AI condition and the AI's suggestion value\n",
    "- random effect is added for each participant via participant_id\n",
    "- only those trials are considered where the AI's suggestion was followed, and where trial_nr >= 2 (to have a max_participant_reward)\n",
    "##### Results interpretation\n",
    "- Greater participants rewards are strongly associated with greater AI values (p < 0.001).\n",
    "- **Participants in the local group derive less benefit from greater AI values (p = 0.001).**\n",
    "- Greater pre-scores are associated with greater participant rewards (p = 0.007).\n",
    "- Greater maximum participant rewards are associated with greater participant rewards (p < 0.001)."
   ]
  },
  {
   "cell_type": "code",
   "execution_count": 119,
   "id": "d54825cc6c8de547",
   "metadata": {
    "ExecuteTime": {
     "end_time": "2025-01-31T17:05:51.001784600Z",
     "start_time": "2025-01-31T17:05:50.504492700Z"
    }
   },
   "outputs": [
    {
     "name": "stdout",
     "output_type": "stream",
     "text": [
      "               Mixed Linear Model Regression Results\n",
      "===================================================================\n",
      "Model:             MixedLM  Dependent Variable:  participant_reward\n",
      "No. Observations:  7297     Method:              REML              \n",
      "No. Groups:        97       Scale:               82.1752           \n",
      "Min. group size:   20       Log-Likelihood:      -26540.2029       \n",
      "Max. group size:   112      Converged:           Yes               \n",
      "Mean group size:   75.2                                            \n",
      "-------------------------------------------------------------------\n",
      "                        Coef.  Std.Err.   z    P>|z|  [0.025 0.975]\n",
      "-------------------------------------------------------------------\n",
      "Intercept              -13.371    2.437 -5.486 0.000 -18.148 -8.594\n",
      "group[T.low]             2.679    1.445  1.853 0.064  -0.154  5.512\n",
      "ai_value                 0.482    0.016 30.322 0.000   0.451  0.513\n",
      "group[T.low]:ai_value   -0.071    0.021 -3.401 0.001  -0.111 -0.030\n",
      "pre_score                0.098    0.036  2.695 0.007   0.027  0.169\n",
      "max_participant_reward   0.665    0.009 75.009 0.000   0.648  0.683\n",
      "Group Var                6.291    0.119                            \n",
      "===================================================================\n",
      "\n"
     ]
    }
   ],
   "source": [
    "def predict_participant_reward_when_ai_followed_mixed_effects_model():\n",
    "    participant_ids = []\n",
    "    groups = []\n",
    "    participant_rewards = []\n",
    "    max_participants_rewards_so_far = []\n",
    "    ai_values = []\n",
    "    pre_scores = []\n",
    "    for participant_data in participants_data:\n",
    "        participant_id = participant_data[\"id\"]\n",
    "        group = participant_data[\"aiType\"]\n",
    "        pre_score = statistics.mean([round_data[\"relativeScore\"] for round_data in participant_data[\"preRounds\"]])\n",
    "        for round_data in participant_data[\"aiRounds\"]:\n",
    "            max_participant_reward = 0\n",
    "            for trial_nr in range(len(round_data[\"trials\"])):\n",
    "                trial = round_data[\"trials\"][trial_nr]\n",
    "                if trial_nr == 0:\n",
    "                    max_participant_reward = trial[\"relativeReward\"]\n",
    "                    continue\n",
    "                participant_reward = trial[\"relativeReward\"]\n",
    "                ai_value = trial[\"relativeAiValue\"]\n",
    "                if trial[\"followedAi\"] == 100:\n",
    "                    participant_ids.append(participant_id)\n",
    "                    groups.append(group)\n",
    "                    participant_rewards.append(participant_reward)\n",
    "                    ai_values.append(ai_value)\n",
    "                    max_participants_rewards_so_far.append(max_participant_reward)\n",
    "                    pre_scores.append(pre_score)\n",
    "                if participant_reward > max_participant_reward:\n",
    "                    max_participant_reward = participant_reward\n",
    "    \n",
    "    treatment_data = pd.DataFrame({\n",
    "        'participant_id': participant_ids,\n",
    "        'group': groups,\n",
    "        'participant_reward': participant_rewards,\n",
    "        'max_participant_reward': max_participants_rewards_so_far,\n",
    "        'ai_value': ai_values,\n",
    "        'pre_score': pre_scores,\n",
    "    })\n",
    "    \n",
    "    model = mixedlm(\n",
    "        \"participant_reward ~ group * ai_value + pre_score + max_participant_reward\",  # formula: dependent variable ~ fixed effects\n",
    "        groups=treatment_data[\"participant_id\"],  # random effect for participants\n",
    "        data=treatment_data\n",
    "    )\n",
    "    \n",
    "    result = model.fit(method=\"powell\")\n",
    "    print(result.summary())\n",
    "    \n",
    "predict_participant_reward_when_ai_followed_mixed_effects_model()"
   ]
  },
  {
   "cell_type": "markdown",
   "id": "6aeb683b802a7f71",
   "metadata": {},
   "source": [
    "#### Mixed effects model: Predict participants' reward when the AI suggestions are not followed\n",
    "##### Model assumption\n",
    "participant_reward ~ group * ai_value + pre_score + max_participant_reward\n",
    "- participant_reward: the participant's reward in a trial\n",
    "- group: the AI condition (local or global)\n",
    "- ai_value: the mean reward associated with an AI suggestion\n",
    "- pre_score: the participant's mean score in the pre-treatment phase\n",
    "- max_participant_reward: the maximum reward the participant has achieved so far in the round\n",
    "- group * ai_value: the interaction between the AI condition and the AI's suggestion value\n",
    "- random effect is added for each participant via participant_id\n",
    "- only those trials are considered where the AI's suggestion was followed, and where trial_nr >= 2 (to have a max_participant_reward)\n",
    "##### Results interpretation\n",
    "- When participants didn't follow the AI's suggestions, their rewards are negatively associated with the AI values (p = 0.007).\n",
    "- The group didn't have a significant effect on the relationship between the AI values and the participants' rewards (p = 0.281)."
   ]
  },
  {
   "cell_type": "code",
   "execution_count": 120,
   "id": "4edce2fe70bc1359",
   "metadata": {
    "ExecuteTime": {
     "end_time": "2025-01-31T17:05:51.388753500Z",
     "start_time": "2025-01-31T17:05:50.998769400Z"
    }
   },
   "outputs": [
    {
     "name": "stdout",
     "output_type": "stream",
     "text": [
      "               Mixed Linear Model Regression Results\n",
      "===================================================================\n",
      "Model:             MixedLM  Dependent Variable:  participant_reward\n",
      "No. Observations:  3761     Method:              REML              \n",
      "No. Groups:        97       Scale:               161.0549          \n",
      "Min. group size:   2        Log-Likelihood:      -14987.4858       \n",
      "Max. group size:   94       Converged:           Yes               \n",
      "Mean group size:   38.8                                            \n",
      "-------------------------------------------------------------------\n",
      "                        Coef.  Std.Err.   z    P>|z|  [0.025 0.975]\n",
      "-------------------------------------------------------------------\n",
      "Intercept              -10.935    5.044 -2.168 0.030 -20.821 -1.048\n",
      "group[T.low]            -1.300    2.298 -0.566 0.572  -5.805  3.205\n",
      "ai_value                -0.065    0.024 -2.691 0.007  -0.113 -0.018\n",
      "group[T.low]:ai_value    0.036    0.033  1.078 0.281  -0.029  0.101\n",
      "pre_score                0.406    0.077  5.276 0.000   0.255  0.557\n",
      "max_participant_reward   0.729    0.014 50.901 0.000   0.701  0.757\n",
      "Group Var               26.472    0.393                            \n",
      "===================================================================\n",
      "\n"
     ]
    }
   ],
   "source": [
    "def predict_participant_reward_when_ai_not_followed_mixed_effects_model():\n",
    "    participant_ids = []\n",
    "    groups = []\n",
    "    participant_rewards = []\n",
    "    max_participants_rewards_so_far = []\n",
    "    ai_values = []\n",
    "    pre_scores = []\n",
    "    for participant_data in participants_data:\n",
    "        participant_id = participant_data[\"id\"]\n",
    "        group = participant_data[\"aiType\"]\n",
    "        pre_score = statistics.mean([round_data[\"relativeScore\"] for round_data in participant_data[\"preRounds\"]])\n",
    "        for round_data in participant_data[\"aiRounds\"]:\n",
    "            max_participant_reward = 0\n",
    "            for trial_nr in range(len(round_data[\"trials\"])):\n",
    "                trial = round_data[\"trials\"][trial_nr]\n",
    "                if trial_nr == 0:\n",
    "                    max_participant_reward = trial[\"relativeReward\"]\n",
    "                    continue\n",
    "                participant_reward = trial[\"relativeReward\"]\n",
    "                ai_value = trial[\"relativeAiValue\"]\n",
    "                if trial[\"followedAi\"] == 0:\n",
    "                    participant_ids.append(participant_id)\n",
    "                    groups.append(group)\n",
    "                    participant_rewards.append(participant_reward)\n",
    "                    ai_values.append(ai_value)\n",
    "                    max_participants_rewards_so_far.append(max_participant_reward)\n",
    "                    pre_scores.append(pre_score)\n",
    "                if participant_reward > max_participant_reward:\n",
    "                    max_participant_reward = participant_reward\n",
    "    \n",
    "    treatment_data = pd.DataFrame({\n",
    "        'participant_id': participant_ids,\n",
    "        'group': groups,\n",
    "        'participant_reward': participant_rewards,\n",
    "        'max_participant_reward': max_participants_rewards_so_far,\n",
    "        'ai_value': ai_values,\n",
    "        'pre_score': pre_scores,\n",
    "    })\n",
    "    \n",
    "    model = mixedlm(\n",
    "        \"participant_reward ~ group * ai_value + pre_score + max_participant_reward\",  # formula: dependent variable ~ fixed effects\n",
    "        groups=treatment_data[\"participant_id\"],  # random effect for participants\n",
    "        data=treatment_data\n",
    "    )\n",
    "    \n",
    "    result = model.fit(method=\"powell\")\n",
    "    print(result.summary())\n",
    "    \n",
    "predict_participant_reward_when_ai_not_followed_mixed_effects_model()"
   ]
  },
  {
   "cell_type": "markdown",
   "id": "db40af3865a43f6e",
   "metadata": {},
   "source": [
    "#### Plot: Average AI value vs participant's reward (regression lines)"
   ]
  },
  {
   "cell_type": "code",
   "execution_count": 121,
   "id": "61b15408914d5872",
   "metadata": {
    "ExecuteTime": {
     "end_time": "2025-01-31T17:05:52.428439Z",
     "start_time": "2025-01-31T17:05:51.386756Z"
    }
   },
   "outputs": [
    {
     "name": "stdout",
     "output_type": "stream",
     "text": [
      "When AI was followed\n",
      "Mean max participant reward: 77.25550368728165\n",
      "Mean pre score: 62.37492843110562\n",
      "\n",
      "When AI wasn't followed\n",
      "Mean max participant reward: 66.46018876521656\n",
      "Mean pre score: 62.468629826235265\n"
     ]
    },
    {
     "data": {
      "image/png": "[encoded data removed]",
      "text/plain": [
       "<Figure size 135.484x90.9091 with 1 Axes>"
      ]
     },
     "metadata": {},
     "output_type": "display_data"
    }
   ],
   "source": [
    "def plot_ai_vs_participant_reward_lines():\n",
    "    followed_max_participants_rewards = []\n",
    "    followed_pre_scores = []\n",
    "    not_followed_max_participants_rewards = []\n",
    "    not_followed_pre_scores = []\n",
    "    for participant_data in participants_data:\n",
    "        pre_score = statistics.mean([round_data[\"relativeScore\"] for round_data in participant_data[\"preRounds\"]])\n",
    "        for round_data in participant_data[\"aiRounds\"]:\n",
    "            max_participant_reward = 0\n",
    "            for trial_nr in range(len(round_data[\"trials\"])):\n",
    "                trial = round_data[\"trials\"][trial_nr]\n",
    "                if trial_nr == 0:\n",
    "                    max_participant_reward = trial[\"relativeReward\"]\n",
    "                    continue\n",
    "                participant_reward = trial[\"relativeReward\"]\n",
    "                if trial[\"followedAi\"] == 100:\n",
    "                    followed_max_participants_rewards.append(max_participant_reward)\n",
    "                    followed_pre_scores.append(pre_score)\n",
    "                else:\n",
    "                    not_followed_max_participants_rewards.append(max_participant_reward)\n",
    "                    not_followed_pre_scores.append(pre_score)\n",
    "                if participant_reward > max_participant_reward:\n",
    "                    max_participant_reward = participant_reward\n",
    "    followed_mean_max_participant_reward = statistics.mean(followed_max_participants_rewards)\n",
    "    not_followed_mean_max_participant_reward = statistics.mean(not_followed_max_participants_rewards)\n",
    "    followed_mean_pre_score = statistics.mean(followed_pre_scores)\n",
    "    not_followed_mean_pre_score = statistics.mean(not_followed_pre_scores)\n",
    "    print(\"When AI was followed\")\n",
    "    print(f\"Mean max participant reward: {followed_mean_max_participant_reward}\")\n",
    "    print(f\"Mean pre score: {followed_mean_pre_score}\")\n",
    "    print(\"\\nWhen AI wasn't followed\")\n",
    "    print(f\"Mean max participant reward: {not_followed_mean_max_participant_reward}\")\n",
    "    print(f\"Mean pre score: {not_followed_mean_pre_score}\")\n",
    "    followed_intercept_addition = 0.098 * followed_mean_pre_score + 0.665 * followed_mean_max_participant_reward\n",
    "    not_followed_intercept_addition = 0.406 * not_followed_mean_pre_score + 0.729 * not_followed_mean_max_participant_reward\n",
    "    global_followed_line = [0.482, -13.371 + followed_intercept_addition]\n",
    "    local_followed_line = [0.482 - 0.071, -13.371 + 2.679 + followed_intercept_addition]\n",
    "    global_not_followed_line = [-0.065, -10.935 + not_followed_intercept_addition]\n",
    "    local_not_followed_line = [-0.065 + 0.036, -10.935 - 1.300 + not_followed_intercept_addition]\n",
    "    xticks = np.linspace(0, 100, 1000)\n",
    "    plt.plot(xticks, np.polyval(global_followed_line, xticks), color=plot_colours[\"global\"], linestyle=\"-.\", label=\"global followed\")\n",
    "    plt.plot(xticks, np.polyval(local_followed_line, xticks), color=plot_colours[\"local\"], linestyle=\"-.\", label=\"local followed\")\n",
    "    plt.plot(xticks, np.polyval(global_not_followed_line, xticks), color=plot_colours[\"global\"], linestyle=\":\", label=\"global not followed\")\n",
    "    plt.plot(xticks, np.polyval(local_not_followed_line, xticks), color=plot_colours[\"local\"], linestyle=\":\", label=\"local not followed\")\n",
    "    plt.xlabel(\"AI value (\\%)\", labelpad=8, verticalalignment=\"center\")\n",
    "    plt.ylabel(\"Reward (\\%)\", loc='top')\n",
    "    plt.gca().xaxis.set_major_locator(FixedLocator([0, 25, 50, 75, 100]))\n",
    "    plt.gca().yaxis.set_major_locator(MultipleLocator(15))\n",
    "    #plt.ylim(50, 90)\n",
    "    plt.xlim(0, 100)\n",
    "    set_axes_length(plot_width, plot_height)\n",
    "    plt.savefig(f\"../figures/analysis_101/ai_vs_human_reward_lines.pdf\", bbox_inches='tight')\n",
    "    plt.show()\n",
    "\n",
    "plot_ai_vs_participant_reward_lines()"
   ]
  },
  {
   "cell_type": "markdown",
   "id": "139b92dd63f3525d",
   "metadata": {},
   "source": [
    "#### Plot: Average AI value per trial"
   ]
  },
  {
   "cell_type": "code",
   "execution_count": 122,
   "id": "b1853cfb5abba29f",
   "metadata": {
    "ExecuteTime": {
     "end_time": "2025-01-31T17:05:52.624022900Z",
     "start_time": "2025-01-31T17:05:52.431446900Z"
    }
   },
   "outputs": [
    {
     "data": {
      "image/png": "[encoded data removed]",
      "text/plain": [
       "<Figure size 135.484x90.9091 with 1 Axes>"
      ]
     },
     "metadata": {},
     "output_type": "display_data"
    }
   ],
   "source": [
    "def plot_mean_ai_value_per_trial():\n",
    "    ai_values_local = []\n",
    "    ai_values_global = []\n",
    "    for participant_data in participants_data:\n",
    "        for round_data in participant_data[\"aiRounds\"]:\n",
    "            ai_values = [trial[\"relativeAiValue\"] for trial in round_data[\"trials\"]]\n",
    "            if participant_data[\"aiType\"] == \"low\":\n",
    "                ai_values_local.append(ai_values)\n",
    "            else:\n",
    "                ai_values_global.append(ai_values)\n",
    "    trial_numbers = list(range(1, 21))\n",
    "    ai_values_local = np.asarray(ai_values_local)\n",
    "    ai_values_global = np.asarray(ai_values_global)\n",
    "    plt.plot(trial_numbers, np.mean(ai_values_global, axis=0), label=\"global\", color=plot_colours[\"global\"])\n",
    "    plt.plot(trial_numbers, np.mean(ai_values_local, axis=0), label=\"local\", color=plot_colours[\"local\"])\n",
    "    # plt.legend(loc=\"lower right\")\n",
    "    plt.gca().xaxis.set_major_locator(FixedLocator([1, 7, 14, 20]))\n",
    "    plt.gca().yaxis.set_major_locator(MultipleLocator(base=5))\n",
    "    std_global = np.std(ai_values_global, axis=0)\n",
    "    std_local = np.std(ai_values_local, axis=0)\n",
    "    ci_global = 1.96 * std_global / sqrt(len(ai_values_global))\n",
    "    ci_local = 1.96 * std_local / sqrt(len(ai_values_local))\n",
    "    plt.fill_between(trial_numbers, np.mean(ai_values_global, axis=0) - ci_global, np.mean(ai_values_global, axis=0) + ci_global, color=plot_colours[\"global\"], alpha=0.2, linewidth=0.0)\n",
    "    plt.fill_between(trial_numbers, np.mean(ai_values_local, axis=0) - ci_local, np.mean(ai_values_local, axis=0) + ci_local, color=plot_colours[\"local\"], alpha=0.2, linewidth=0.0)\n",
    "    plt.xlim(1, 20)\n",
    "    plt.xlabel(\"Trial\", labelpad=8, verticalalignment=\"center\")\n",
    "    plt.ylabel(\"AI value (\\%)\", loc='top')\n",
    "    set_axes_length(plot_width, plot_height)\n",
    "    plt.savefig(\"../figures/analysis_101/ai_value_per_trial.pdf\", bbox_inches='tight')\n",
    "    plt.show()\n",
    "    \n",
    "plot_mean_ai_value_per_trial()"
   ]
  },
  {
   "cell_type": "markdown",
   "id": "9fbd84cc6c3013e8",
   "metadata": {},
   "source": [
    "#### Plot: Improvement on the AI's suggestion per trial"
   ]
  },
  {
   "cell_type": "code",
   "execution_count": 123,
   "id": "a520c35d97fd54b0",
   "metadata": {
    "ExecuteTime": {
     "end_time": "2025-01-31T17:05:52.898133200Z",
     "start_time": "2025-01-31T17:05:52.622041800Z"
    }
   },
   "outputs": [
    {
     "data": {
      "image/png": "[encoded data removed]",
      "text/plain": [
       "<Figure size 135.484x90.9091 with 1 Axes>"
      ]
     },
     "metadata": {},
     "output_type": "display_data"
    }
   ],
   "source": [
    "def plot_improvement_on_ai_per_trial():\n",
    "    improvements_ai_followed_local = []\n",
    "    improvements_ai_followed_global = []\n",
    "    improvements_ai_not_followed_local = []\n",
    "    improvements_ai_not_followed_global = []\n",
    "    for participant_data in participants_data:\n",
    "        for round_data in participant_data[\"aiRounds\"]:\n",
    "            improvements_ai_followed = []\n",
    "            improvements_ai_not_followed = []\n",
    "            for trial in round_data[\"trials\"]:\n",
    "                ai_value = trial[\"relativeAiValue\"]\n",
    "                participant_reward = trial[\"relativeReward\"]\n",
    "                ai_followed = trial[\"followedAi\"]\n",
    "                if ai_followed != 0:\n",
    "                    improvements_ai_followed.append(participant_reward - ai_value)\n",
    "                    improvements_ai_not_followed.append(np.nan)\n",
    "                else:\n",
    "                    improvements_ai_not_followed.append(participant_reward - ai_value)\n",
    "                    improvements_ai_followed.append(np.nan)\n",
    "            if participant_data[\"aiType\"] == \"low\":\n",
    "                improvements_ai_followed_local.append(improvements_ai_followed)\n",
    "                improvements_ai_not_followed_local.append(improvements_ai_not_followed)\n",
    "            else:\n",
    "                improvements_ai_followed_global.append(improvements_ai_followed)\n",
    "                improvements_ai_not_followed_global.append(improvements_ai_not_followed)\n",
    "    \n",
    "    trial_numbers = list(range(1, 21))\n",
    "    improvements_ai_followed_local = np.asarray(improvements_ai_followed_local)\n",
    "    improvements_ai_followed_global = np.asarray(improvements_ai_followed_global)\n",
    "    improvements_ai_not_followed_local = np.asarray(improvements_ai_not_followed_local)\n",
    "    improvements_ai_not_followed_global = np.asarray(improvements_ai_not_followed_global)\n",
    "    plt.plot(trial_numbers, np.zeros(len(trial_numbers)), color=plot_colours[\"ai\"], linestyle=\"-\")\n",
    "    plt.plot(trial_numbers, np.nanmean(improvements_ai_followed_global, axis=0), label=\"global\", color=plot_colours[\"global\"], linestyle=\"-.\")\n",
    "    plt.plot(trial_numbers, np.nanmean(improvements_ai_followed_local, axis=0), label=\"local\", color=plot_colours[\"local\"], linestyle=\"-.\")\n",
    "    plt.plot(trial_numbers, np.nanmean(improvements_ai_not_followed_global, axis=0), color=plot_colours[\"global\"], linestyle=\":\")\n",
    "    plt.plot(trial_numbers, np.nanmean(improvements_ai_not_followed_local, axis=0), color=plot_colours[\"local\"], linestyle=\":\")\n",
    "    plt.gca().xaxis.set_major_locator(FixedLocator([1, 7, 14, 20]))\n",
    "    plt.gca().yaxis.set_major_locator(MultipleLocator(base=5))\n",
    "    plt.xlabel(\"Trial\", labelpad=8, verticalalignment=\"center\")\n",
    "    plt.ylabel(\"Improvement\\non AI (\\%)\", loc='top')\n",
    "    set_axes_length(plot_width, plot_height)\n",
    "    plt.savefig(\"../figures/analysis_101/improvements_on_ai_per_trial.pdf\", bbox_inches='tight')\n",
    "    plt.show()\n",
    "\n",
    "plot_improvement_on_ai_per_trial()"
   ]
  },
  {
   "cell_type": "markdown",
   "id": "541cc4686a1f6e25",
   "metadata": {},
   "source": [
    "#### Mixed effects model: Predict the AI improvements\n",
    "##### Model assumption\n",
    "ai_improvement ~ group * ai_followed\n",
    "- ai_improvement: the participant's improvement on the AI's suggestion in a trial\n",
    "- group: the AI condition (local or global)\n",
    "- ai_followed: whether the participant followed the AI's suggestion (binary)\n",
    "- random effect is added for each participant via participant_id\n",
    "##### Results interpretation\n",
    "- The local AI group had slightly better improvement scores than the global AI group, but this difference was not significant (p = 0.236).\n",
    "- Participants who followed the AI's suggestions had significantly better improvement scores than those who didn't (p < 0.001).\n",
    "- The local AI group benefits significantly less from following AI than the global AI group (p < 0.001)."
   ]
  },
  {
   "cell_type": "code",
   "execution_count": 124,
   "id": "189250bfc08f9675",
   "metadata": {
    "ExecuteTime": {
     "end_time": "2025-01-31T17:05:53.445958900Z",
     "start_time": "2025-01-31T17:05:52.906679500Z"
    }
   },
   "outputs": [
    {
     "name": "stdout",
     "output_type": "stream",
     "text": [
      "                   Mixed Linear Model Regression Results\n",
      "===========================================================================\n",
      "Model:                 MixedLM      Dependent Variable:      improvement_ai\n",
      "No. Observations:      11640        Method:                  REML          \n",
      "No. Groups:            97           Scale:                   234.5292      \n",
      "Min. group size:       120          Log-Likelihood:          -48403.6542   \n",
      "Max. group size:       120          Converged:               Yes           \n",
      "Mean group size:       120.0                                               \n",
      "---------------------------------------------------------------------------\n",
      "                                 Coef.  Std.Err.   z    P>|z| [0.025 0.975]\n",
      "---------------------------------------------------------------------------\n",
      "Intercept                        -0.217    0.783 -0.278 0.781 -1.751  1.316\n",
      "group[T.low]                      1.357    1.146  1.185 0.236 -0.888  3.602\n",
      "ai_followed[T.True]              11.112    0.454 24.468 0.000 10.221 12.002\n",
      "group[T.low]:ai_followed[T.True] -4.945    0.658 -7.515 0.000 -6.235 -3.655\n",
      "Group Var                        25.219    0.259                           \n",
      "===========================================================================\n",
      "\n"
     ]
    }
   ],
   "source": [
    "def predict_ai_improvement_mixed_effects_model():\n",
    "    participant_ids = []\n",
    "    ai_followed_binaries = []\n",
    "    ai_improvements = []\n",
    "    groups = []\n",
    "    for participant_data in participants_data:\n",
    "        participant_id = participant_data[\"id\"]\n",
    "        group = participant_data[\"aiType\"]\n",
    "        for round_data in participant_data[\"aiRounds\"]:\n",
    "            for trial_nr in range(len(round_data[\"trials\"])):\n",
    "                trial = round_data[\"trials\"][trial_nr]\n",
    "                ai_value = trial[\"relativeAiValue\"]\n",
    "                participant_reward = trial[\"relativeReward\"]\n",
    "                ai_followed = trial[\"followedAi\"]\n",
    "                participant_ids.append(participant_id)\n",
    "                ai_followed_binaries.append(True if ai_followed == 100 else False)\n",
    "                groups.append(group)\n",
    "                ai_improvements.append(participant_reward - ai_value)\n",
    "    \n",
    "    treatment_data = pd.DataFrame({\n",
    "        'participant_id': participant_ids,\n",
    "        'group': groups,\n",
    "        'ai_followed': ai_followed_binaries,\n",
    "        'improvement_ai': ai_improvements,\n",
    "    })\n",
    "    \n",
    "    model = mixedlm(\n",
    "        \"improvement_ai ~ group * ai_followed\",  # formula: dependent variable ~ fixed effects\n",
    "        groups=treatment_data[\"participant_id\"],  # random effect for participants\n",
    "        data=treatment_data\n",
    "    )\n",
    "    \n",
    "    result = model.fit(method=\"powell\")\n",
    "    print(result.summary())\n",
    "    \n",
    "predict_ai_improvement_mixed_effects_model()"
   ]
  },
  {
   "cell_type": "markdown",
   "id": "e4b5efb2d7a12a4d",
   "metadata": {},
   "source": [
    "#### Mixed effects model: Predict the AI values\n",
    "##### Model assumption\n",
    "ai_value ~ group * trial\n",
    "- ai_value: the mean reward associated with an AI suggestion\n",
    "- group: the AI condition (local or global)\n",
    "- trial: the trial number (between 1 and 20)\n",
    "- group * trial: the interaction between the AI condition and the trial\n",
    "- random effect is added for each participant via participant_id\n",
    "##### Results interpretation\n",
    "- **There is no strong evidence that the AI value (p = 0.778) or its relationship with trial (p = 0.355) differ significantly between the global and local groups.**\n",
    "- The AI value increases as the trials progress (p < 0.001)."
   ]
  },
  {
   "cell_type": "code",
   "execution_count": 125,
   "id": "926e0acf934c9504",
   "metadata": {
    "ExecuteTime": {
     "end_time": "2025-01-31T17:05:53.964739700Z",
     "start_time": "2025-01-31T17:05:53.445958900Z"
    }
   },
   "outputs": [
    {
     "name": "stdout",
     "output_type": "stream",
     "text": [
      "            Mixed Linear Model Regression Results\n",
      "=============================================================\n",
      "Model:              MixedLM  Dependent Variable:  ai_value   \n",
      "No. Observations:   11640    Method:              REML       \n",
      "No. Groups:         97       Scale:               126.7762   \n",
      "Min. group size:    120      Log-Likelihood:      -44838.6307\n",
      "Max. group size:    120      Converged:           Yes        \n",
      "Mean group size:    120.0                                    \n",
      "-------------------------------------------------------------\n",
      "                   Coef.  Std.Err.   z    P>|z| [0.025 0.975]\n",
      "-------------------------------------------------------------\n",
      "Intercept          54.499    0.638 85.407 0.000 53.249 55.750\n",
      "group[T.low]        0.265    0.937  0.283 0.778 -1.572  2.101\n",
      "trial               0.714    0.025 28.881 0.000  0.665  0.762\n",
      "group[T.low]:trial -0.034    0.036 -0.925 0.355 -0.105  0.038\n",
      "Group Var          16.615    0.229                           \n",
      "=============================================================\n",
      "\n"
     ]
    }
   ],
   "source": [
    "def predict_ai_value_mixed_effects_model():\n",
    "    participant_ids = []\n",
    "    groups = []\n",
    "    trial_nrs = []\n",
    "    ai_values = []\n",
    "    for participant_data in participants_data:\n",
    "        participant_id = participant_data[\"id\"]\n",
    "        group = participant_data[\"aiType\"]\n",
    "        for round_data in participant_data[\"aiRounds\"]:\n",
    "            for trial_nr in range(len(round_data[\"trials\"])):\n",
    "                trial = round_data[\"trials\"][trial_nr]\n",
    "                ai_value = trial[\"relativeAiValue\"]\n",
    "                trial_nrs.append(trial_nr + 1)\n",
    "                participant_ids.append(participant_id)\n",
    "                groups.append(group)\n",
    "                ai_values.append(ai_value)\n",
    "    \n",
    "    treatment_data = pd.DataFrame({\n",
    "        'participant_id': participant_ids,\n",
    "        'group': groups,\n",
    "        'trial': trial_nrs,\n",
    "        'ai_value': ai_values,\n",
    "    })\n",
    "    \n",
    "    model = mixedlm(\n",
    "        \"ai_value ~ group * trial\",  # formula: dependent variable ~ fixed effects\n",
    "        groups=treatment_data[\"participant_id\"],  # random effect for participants\n",
    "        data=treatment_data\n",
    "    )\n",
    "    \n",
    "    result = model.fit(method=\"powell\")\n",
    "    print(result.summary())\n",
    "    \n",
    "predict_ai_value_mixed_effects_model()"
   ]
  },
  {
   "cell_type": "markdown",
   "id": "717e1ad4207fbc15",
   "metadata": {},
   "source": [
    "### Time"
   ]
  },
  {
   "cell_type": "markdown",
   "id": "b97a153b2e5b5e20",
   "metadata": {},
   "source": [
    "#### Plot: Average Pre, AI, Post completion times for the two settings"
   ]
  },
  {
   "cell_type": "code",
   "execution_count": 126,
   "id": "71a3143c1308c90a",
   "metadata": {
    "ExecuteTime": {
     "end_time": "2025-01-31T17:05:55.244034800Z",
     "start_time": "2025-01-31T17:05:55.010852300Z"
    }
   },
   "outputs": [
    {
     "data": {
      "image/png": "[encoded data removed]",
      "text/plain": [
       "<Figure size 135.484x90.9091 with 1 Axes>"
      ]
     },
     "metadata": {},
     "output_type": "display_data"
    }
   ],
   "source": [
    "def plot_average_times_pre_ai_post():\n",
    "    local_participants = [participant_data for participant_data in participants_data if participant_data[\"aiType\"] == \"low\"]\n",
    "    global_participants = [participant_data for participant_data in participants_data if participant_data[\"aiType\"] == \"high\"]\n",
    "    \n",
    "    phase_times_local_ai = {\n",
    "        \"pre_treatment\": [round_data[\"timeRound\"] for local_participant in local_participants for round_data in local_participant[\"preRounds\"]],\n",
    "        \"ai\": [round_data[\"timeRound\"] for local_participant in local_participants for round_data in local_participant[\"aiRounds\"]],\n",
    "        \"post_treatment\": [round_data[\"timeRound\"] for local_participant in local_participants for round_data in local_participant[\"postRounds\"]]\n",
    "    }\n",
    "    phase_times_global_ai = {\n",
    "        \"pre_treatment\": [round_data[\"timeRound\"] for global_participant in global_participants for round_data in global_participant[\"preRounds\"]],\n",
    "        \"ai\": [round_data[\"timeRound\"] for global_participant in global_participants for round_data in global_participant[\"aiRounds\"]],\n",
    "        \"post_treatment\": [round_data[\"timeRound\"] for global_participant in global_participants for round_data in global_participant[\"postRounds\"]]\n",
    "    }\n",
    "        \n",
    "    def plot_setting(x_ticks, phase_performances, colour, offset_points, label):\n",
    "        phase_means = []\n",
    "        for phase_nr, phase in enumerate([\"pre_treatment\", \"ai\", \"post_treatment\"]):\n",
    "            performances = phase_performances[phase]\n",
    "            mean = statistics.mean(performances)\n",
    "            phase_means.append(mean)\n",
    "            std = statistics.stdev(performances)\n",
    "            confidence_interval = 1.96 * std / sqrt(len(performances))\n",
    "            \n",
    "            horizontal_line_width = 0.15\n",
    "            x = x_ticks[phase_nr] + offset_points\n",
    "            \n",
    "            left = x - horizontal_line_width / 2\n",
    "            top = mean - confidence_interval\n",
    "            right = x + horizontal_line_width / 2\n",
    "            bottom = mean + confidence_interval\n",
    "            if phase == \"ai\":\n",
    "                label = None\n",
    "            plt.plot([x, x], [top, bottom], color=colour, label=label)\n",
    "            plt.plot([left, right], [top, top], color=colour)\n",
    "            plt.plot([left, right], [bottom, bottom], color=colour)\n",
    "            plt.plot(x, mean, 'o', color=colour)\n",
    "        plt.plot([x_tick + offset_points for x_tick in x_ticks], phase_means, color=colour)\n",
    "        return\n",
    "    \n",
    "    xticks = [1, 2, 3]\n",
    "    plt.xticks(xticks, [\"Pre\", \"AI\", \"Post\"])\n",
    "    local_offset = 0.15\n",
    "    plot_setting(xticks, phase_times_local_ai, plot_colours[\"local\"], local_offset, \"local\")\n",
    "    global_offset = -0.15\n",
    "    plot_setting(xticks, phase_times_global_ai, plot_colours[\"global\"], global_offset, \"global\")\n",
    "    plt.xlabel(\"Phase\", labelpad=8, verticalalignment=\"center\")\n",
    "    plt.ylabel(\"Time (s)\", loc='top')\n",
    "    plt.gca().yaxis.set_major_locator(MultipleLocator(base=10))\n",
    "    set_axes_length(plot_width, plot_height)\n",
    "    plt.savefig(\"../figures/analysis_101/local_vs_global_time_by_phases.pdf\", bbox_inches='tight')\n",
    "    plt.show()\n",
    "    \n",
    "plot_average_times_pre_ai_post()"
   ]
  },
  {
   "cell_type": "markdown",
   "id": "deecaaa77690ea48",
   "metadata": {},
   "source": [
    "#### Mixed effects model: Predict participants' completion times\n",
    "##### Model assumption\n",
    "time ~ group * phase + pre_time\n",
    "- time: the time taken by a participant to complete a round\n",
    "- group: the AI condition (local or global)\n",
    "- phase: the phase of the experiment (pre-treatment, AI, or post-treatment)\n",
    "- pre_time: the participant's mean time in the pre-treatment phase\n",
    "- group * phase: the interaction between the AI condition and the phase\n",
    "- random effect is added for each participant via participant_id\n",
    "##### Results interpretation\n",
    "- Participants take significantly longer in the Pre phase than in the AI phase (p < 0.001).\n",
    "- Participants take significantly longer in the AI phase than in the Post phase (p < 0.001).\n",
    "- Higher completion times are predictive of completion times in all phases (p < 0.001).\n",
    "- **There is no significant difference in completion times between the local and global groups (p = 0.913, p = 0.685, p = 0.904).**"
   ]
  },
  {
   "cell_type": "code",
   "execution_count": 127,
   "id": "fe396d81a45241de",
   "metadata": {
    "ExecuteTime": {
     "end_time": "2025-01-31T17:05:55.607644800Z",
     "start_time": "2025-01-31T17:05:55.246041600Z"
    }
   },
   "outputs": [
    {
     "name": "stdout",
     "output_type": "stream",
     "text": [
      "                 Mixed Linear Model Regression Results\n",
      "=======================================================================\n",
      "Model:                 MixedLM      Dependent Variable:      time      \n",
      "No. Observations:      1164         Method:                  REML      \n",
      "No. Groups:            97           Scale:                   843.3650  \n",
      "Min. group size:       12           Log-Likelihood:          -5622.1517\n",
      "Max. group size:       12           Converged:               Yes       \n",
      "Mean group size:       12.0                                            \n",
      "-----------------------------------------------------------------------\n",
      "                            Coef.  Std.Err.   z    P>|z|  [0.025 0.975]\n",
      "-----------------------------------------------------------------------\n",
      "Intercept                   13.141    3.216  4.087 0.000   6.839 19.444\n",
      "group[T.low]                 0.400    3.652  0.109 0.913  -6.759  7.558\n",
      "phase[T.post]              -13.791    2.848 -4.843 0.000 -19.372 -8.210\n",
      "phase[T.pre]                12.509    2.848  4.393 0.000   6.928 18.091\n",
      "group[T.low]:phase[T.post]   1.694    4.181  0.405 0.685  -6.501  9.888\n",
      "group[T.low]:phase[T.pre]    0.505    4.181  0.121 0.904  -7.690  8.699\n",
      "pre_time                     0.547    0.036 15.189 0.000   0.476  0.617\n",
      "Group Var                  181.089    1.317                            \n",
      "=======================================================================\n",
      "\n"
     ]
    }
   ],
   "source": [
    "def predict_participant_time_mixed_effects_model():\n",
    "    participant_ids = []\n",
    "    groups = []\n",
    "    phases = []\n",
    "    times = []\n",
    "    mean_pre_times = []\n",
    "    \n",
    "    for participant_data in participants_data:\n",
    "        participant_id = participant_data[\"id\"]\n",
    "        group = participant_data[\"aiType\"]\n",
    "        mean_pre_time = statistics.mean([round_data[\"timeRound\"] for round_data in participant_data[\"preRounds\"]])\n",
    "        for phase in [\"pre\", \"ai\", \"post\"]:\n",
    "            for round_data in participant_data[f\"{phase}Rounds\"]:\n",
    "                participant_ids.append(participant_id)\n",
    "                groups.append(group)\n",
    "                phases.append(phase)\n",
    "                times.append(round_data[\"timeRound\"])\n",
    "                mean_pre_times.append(mean_pre_time)\n",
    "    \n",
    "    data = pd.DataFrame({\n",
    "        'participant_id': participant_ids,\n",
    "        'group': groups,\n",
    "        'phase': phases,\n",
    "        'time': times,\n",
    "        'pre_time': mean_pre_times,\n",
    "    })\n",
    "    \n",
    "    model = mixedlm(\n",
    "        \"time ~ group * phase + pre_time\",  # formula: dependent variable ~ fixed effects\n",
    "        data,\n",
    "        groups=data[\"participant_id\"],  # random effects (participant-level intercepts)\n",
    "    )\n",
    "    \n",
    "    result = model.fit(method=\"powell\")\n",
    "    print(result.summary())\n",
    "    \n",
    "predict_participant_time_mixed_effects_model()"
   ]
  },
  {
   "cell_type": "markdown",
   "id": "36c0798535ba9ab2",
   "metadata": {},
   "source": [
    "### Plot legend for the figures"
   ]
  },
  {
   "cell_type": "code",
   "execution_count": 129,
   "id": "d8ed1e5f31703a23",
   "metadata": {
    "ExecuteTime": {
     "end_time": "2025-01-31T17:05:56.034861600Z",
     "start_time": "2025-01-31T17:05:55.609148600Z"
    }
   },
   "outputs": [
    {
     "data": {
      "image/png": "[encoded data removed]",
      "text/plain": [
       "<Figure size 300x300 with 1 Axes>"
      ]
     },
     "metadata": {},
     "output_type": "display_data"
    }
   ],
   "source": [
    "def plot_legend():\n",
    "    global_ai = mlines.Line2D([], [], color=plot_colours[\"global\"], marker=\"o\", markersize=5, linestyle='-', label='Global AI condition')\n",
    "    local_ai = mlines.Line2D([], [], color=plot_colours[\"local\"], marker='o', markersize=5, linestyle='-', label='Local AI condition')\n",
    "    outlier = mlines.Line2D([], [], color=plot_colours[\"distinctColours\"][2], markersize = 5, marker='o', linestyle='', label='Excluded participant')\n",
    "    ai_value_baseline = mlines.Line2D([], [], color=plot_colours[\"ai\"], linestyle='-', label='AI value as baseline')\n",
    "    ai_followed = mlines.Line2D([], [], color=\"black\", linestyle='-.', label='Adhered to AI')\n",
    "    ai_not_followed = mlines.Line2D([], [], color=\"black\", linestyle=':', label='Not adhered to AI')\n",
    "    other_ai_followed = mlines.Line2D([], [], color=\"black\", linestyle='--', label='Counterfactual AI')\n",
    "\n",
    "    fig, ax = plt.subplots(figsize=(3, 3))\n",
    "    ax.axis('off')\n",
    "    ax.legend(handles=[global_ai, local_ai, outlier, ai_value_baseline, ai_followed, ai_not_followed, other_ai_followed], loc='center', frameon=False, handlelength=3, fontsize=7)\n",
    "\n",
    "    plt.savefig(\"../figures/analysis_101/legend.pdf\", bbox_inches='tight')\n",
    "    plt.show()\n",
    "    \n",
    "plot_legend()"
   ]
  },
  {
   "cell_type": "code",
   "execution_count": null,
   "id": "5077c36f3ee46d1f",
   "metadata": {
    "ExecuteTime": {
     "end_time": "2025-01-31T17:05:56.039883800Z",
     "start_time": "2025-01-31T17:05:56.035369300Z"
    }
   },
   "outputs": [],
   "source": []
  }
 ],
 "metadata": {
  "kernelspec": {
   "display_name": "global-vs-local-analysis",
   "language": "python",
   "name": "python3"
  },
  "language_info": {
   "codemirror_mode": {
    "name": "ipython",
    "version": 3
   },
   "file_extension": ".py",
   "mimetype": "text/x-python",
   "name": "python",
   "nbconvert_exporter": "python",
   "pygments_lexer": "ipython3",
   "version": "3.11.12"
  }
 },
 "nbformat": 4,
 "nbformat_minor": 5
}
