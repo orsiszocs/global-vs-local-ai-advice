{
 "cells": [
  {
   "cell_type": "markdown",
   "id": "c1222a85145ca605",
   "metadata": {
    "collapsed": false
   },
   "source": [
    "### Participants' completion time and total payment"
   ]
  },
  {
   "cell_type": "code",
   "execution_count": 1,
   "id": "55bedf8f87d9de75",
   "metadata": {
    "ExecuteTime": {
     "end_time": "2025-05-04T20:38:44.681568200Z",
     "start_time": "2025-05-04T20:38:43.235069700Z"
    },
    "collapsed": false
   },
   "outputs": [],
   "source": [
    "import json\n",
    "import statistics\n",
    "from datetime import datetime\n",
    "from common import set_matplotlib_latex\n",
    "set_matplotlib_latex()\n",
    "\n",
    "nr_participants = [10, 40, 51]\n",
    "def get_data_path(number):\n",
    "    return f\"../data/ColourCombo_{number}_anonymised.json\"\n",
    "\n",
    "participants_data = []\n",
    "for nr in nr_participants:\n",
    "    data_path = get_data_path(nr)\n",
    "    with open(data_path) as file:\n",
    "        all_data = json.load(file)\n",
    "        for participant_data in all_data:\n",
    "            participant_data[\"id\"] = str(nr) + \">\" + participant_data[\"id\"]\n",
    "            participants_data.append(participant_data)"
   ]
  },
  {
   "cell_type": "markdown",
   "id": "cc47c99ccc9964f",
   "metadata": {
    "collapsed": false
   },
   "source": [
    "#### Time taken to complete the experiment"
   ]
  },
  {
   "cell_type": "code",
   "execution_count": 2,
   "id": "4819f74372646aed",
   "metadata": {
    "ExecuteTime": {
     "end_time": "2025-05-04T20:38:44.704727700Z",
     "start_time": "2025-05-04T20:38:44.688577500Z"
    },
    "collapsed": false
   },
   "outputs": [
    {
     "name": "stdout",
     "output_type": "stream",
     "text": [
      "Mean time taken to complete the experiment: 23.18102310231023 minutes\n",
      "Standard deviation of time taken to complete the experiment: 11.327414638267584 minutes\n"
     ]
    }
   ],
   "source": [
    "participant_times = []\n",
    "for participant_data in participants_data:\n",
    "    date_format = \"%Y-%m-%d %H:%M:%S\"\n",
    "    start_time = datetime.strptime(participant_data[\"task_start\"], date_format)\n",
    "    end_time = datetime.strptime(participant_data[\"task_end\"], date_format)\n",
    "    seconds = (end_time - start_time).total_seconds()\n",
    "    round_scores = []\n",
    "    for round in participant_data[\"experimentData\"][\"roundsData\"]:\n",
    "        round_scores.append(round[\"relativeScore\"])\n",
    "    participant_times.append({\"time\": seconds, \"participant\": participant_data[\"id\"], \"score\": statistics.mean(round_scores)})\n",
    "mean_participant_time = statistics.mean([participant_time[\"time\"] for participant_time in participant_times])\n",
    "std_participant_time = statistics.stdev([participant_time[\"time\"] for participant_time in participant_times])\n",
    "print(f\"Mean time taken to complete the experiment: {mean_participant_time / 60} minutes\")\n",
    "print(f\"Standard deviation of time taken to complete the experiment: {std_participant_time / 60} minutes\")"
   ]
  },
  {
   "cell_type": "markdown",
   "id": "192539562e9431a9",
   "metadata": {
    "collapsed": false
   },
   "source": [
    "#### Payment received by participants"
   ]
  },
  {
   "cell_type": "code",
   "execution_count": 3,
   "id": "e2d85a027ff1234a",
   "metadata": {
    "ExecuteTime": {
     "end_time": "2025-05-04T20:38:44.713721800Z",
     "start_time": "2025-05-04T20:38:44.713721800Z"
    },
    "collapsed": false
   },
   "outputs": [
    {
     "name": "stdout",
     "output_type": "stream",
     "text": [
      "Mean payment received by participants: £4.7634653465346535\n",
      "Standard deviation of payment received by participants: £0.3831956044726097\n"
     ]
    }
   ],
   "source": [
    "participant_payments = []\n",
    "for participant_data in participants_data:\n",
    "    participant_payments.append(float(participant_data[\"reward\"]) + 3.6)\n",
    "mean_participant_payment = statistics.mean(participant_payments)\n",
    "std_participant_payment = statistics.stdev(participant_payments)\n",
    "print(f\"Mean payment received by participants: £{mean_participant_payment}\")\n",
    "print(f\"Standard deviation of payment received by participants: £{std_participant_payment}\")"
   ]
  },
  {
   "cell_type": "code",
   "execution_count": null,
   "id": "b1331ecb3deaa821",
   "metadata": {
    "collapsed": false
   },
   "outputs": [],
   "source": []
  }
 ],
 "metadata": {
  "kernelspec": {
   "display_name": "global-vs-local-analysis",
   "language": "python",
   "name": "python3"
  },
  "language_info": {
   "codemirror_mode": {
    "name": "ipython",
    "version": 3
   },
   "file_extension": ".py",
   "mimetype": "text/x-python",
   "name": "python",
   "nbconvert_exporter": "python",
   "pygments_lexer": "ipython3",
   "version": "3.11.12"
  }
 },
 "nbformat": 4,
 "nbformat_minor": 5
}
