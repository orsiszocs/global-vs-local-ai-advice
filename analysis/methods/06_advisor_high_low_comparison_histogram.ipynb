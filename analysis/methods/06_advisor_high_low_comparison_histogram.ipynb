{
 "cells": [
  {
   "cell_type": "markdown",
   "id": "44516d8b1438a2b7",
   "metadata": {
    "collapsed": false
   },
   "source": [
    "### Histogram of global and local AI value differences\n",
    "For each landscape trio, denotes the AI value difference as the sum of the differences between the global and local AI values of the three landscapes in the trio, following the AI values received after the advisor were fed 0, ..., 19 random suggestions. Compares the distributions of AI value differences for basic landscape trios and for the final selected landscape trios."
   ]
  },
  {
   "cell_type": "code",
   "execution_count": 1,
   "id": "29860401a6b06994",
   "metadata": {
    "ExecuteTime": {
     "end_time": "2025-05-04T17:54:53.759344200Z",
     "start_time": "2025-05-04T17:54:52.976923200Z"
    },
    "collapsed": false
   },
   "outputs": [],
   "source": [
    "from common import set_matplotlib_latex, plot_colours, set_axes_length\n",
    "import matplotlib.pyplot as plt\n",
    "import json\n",
    "import numpy as np\n",
    "set_matplotlib_latex()\n",
    "from matplotlib.ticker import MultipleLocator"
   ]
  },
  {
   "cell_type": "code",
   "execution_count": 2,
   "id": "e42e6ee4c9b83bb0",
   "metadata": {
    "ExecuteTime": {
     "end_time": "2025-05-04T17:54:53.769799300Z",
     "start_time": "2025-05-04T17:54:53.768802200Z"
    },
    "collapsed": false
   },
   "outputs": [],
   "source": [
    "def load_basic_landscapes_trios_scores():\n",
    "    landscapes_scores = []\n",
    "    batch_nrs = [i for i in range(0, 10)]\n",
    "    for batch_nr in batch_nrs:\n",
    "        with open(f\"../outputs/advisor_high_low_comparison_basic_landscapes/{batch_nr}.json\", \"r\", encoding=\"utf-8\") as file:\n",
    "            landscapes_json = json.load(file)\n",
    "        for landscape_json in landscapes_json:\n",
    "            high_rewards = np.array(landscape_json[\"high_rewards\"])\n",
    "            low_rewards = np.array(landscape_json[\"low_rewards\"])\n",
    "            landscapes_scores.append(np.mean(high_rewards - low_rewards))\n",
    "    # add every trio in landscapes_scores\n",
    "    trios_scores = []\n",
    "    for i in range(0, len(landscapes_scores), 3):\n",
    "        trios_scores.append(landscapes_scores[i] + landscapes_scores[i + 1] + landscapes_scores[i + 2])\n",
    "    return trios_scores\n",
    "\n",
    "def load_preselected_landscapes_trios_scores():\n",
    "    trios_scores = []\n",
    "    with open(\"../landscapes/landscape_trios_20_with_rewards.json\", \"r\", encoding=\"utf-8\") as file:\n",
    "        trios_json = json.load(file)\n",
    "    for trio_json in trios_json:\n",
    "        high_rewards = np.array(trio_json[\"high_rewards\"])\n",
    "        low_rewards = np.array(trio_json[\"low_rewards\"])\n",
    "        trios_scores.append(np.mean(high_rewards - low_rewards))\n",
    "    return trios_scores"
   ]
  },
  {
   "cell_type": "code",
   "execution_count": 3,
   "id": "2e1104cedfa164cc",
   "metadata": {
    "ExecuteTime": {
     "end_time": "2025-05-04T17:54:58.229794900Z",
     "start_time": "2025-05-04T17:54:56.671681900Z"
    },
    "collapsed": false
   },
   "outputs": [
    {
     "data": {
      "image/png": "[encoded data removed]",
      "text/plain": [
       "<Figure size 135.484x90.9091 with 1 Axes>"
      ]
     },
     "metadata": {},
     "output_type": "display_data"
    }
   ],
   "source": [
    "basic_trios_scores = load_basic_landscapes_trios_scores()\n",
    "preselected_trios_scores = load_preselected_landscapes_trios_scores()\n",
    "\n",
    "plot_width = 1.05\n",
    "plot_height = 0.7\n",
    "max_or_min_difference = max(abs(min(basic_trios_scores)), abs(max(basic_trios_scores)))\n",
    "bins = np.linspace(-max_or_min_difference, max_or_min_difference, 14)\n",
    "plt.hist(basic_trios_scores, color=plot_colours[\"ai\"], bins=bins, alpha=0.5, label=\"All\")\n",
    "plt.hist(preselected_trios_scores, color=plot_colours[\"ai\"],bins=bins, label=\"Selected\")\n",
    "set_axes_length(plot_width, plot_height)\n",
    "plt.legend(loc='center left', bbox_to_anchor=(1, 0.5))\n",
    "plt.gca().yaxis.set_major_locator(MultipleLocator(base=10))\n",
    "plt.xlabel(\"AI value difference\")\n",
    "plt.ylabel(\"Number of sets\")\n",
    "plt.savefig(\"../figures/advisor_high_low_comparison/advice_reward_difference.pdf\", bbox_inches='tight')\n",
    "plt.show()"
   ]
  },
  {
   "cell_type": "code",
   "execution_count": 3,
   "id": "4682fb3308404be9",
   "metadata": {
    "ExecuteTime": {
     "end_time": "2025-01-13T09:12:49.467469Z",
     "start_time": "2025-01-13T09:12:49.449949800Z"
    },
    "collapsed": false
   },
   "outputs": [],
   "source": []
  }
 ],
 "metadata": {
  "kernelspec": {
   "display_name": "global-vs-local-analysis",
   "language": "python",
   "name": "python3"
  },
  "language_info": {
   "codemirror_mode": {
    "name": "ipython",
    "version": 3
   },
   "file_extension": ".py",
   "mimetype": "text/x-python",
   "name": "python",
   "nbconvert_exporter": "python",
   "pygments_lexer": "ipython3",
   "version": "3.11.12"
  }
 },
 "nbformat": 4,
 "nbformat_minor": 5
}
