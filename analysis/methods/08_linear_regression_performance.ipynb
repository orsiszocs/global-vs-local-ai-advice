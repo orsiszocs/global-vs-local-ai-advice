{
 "cells": [
  {
   "cell_type": "markdown",
   "id": "f66787a1482f09a6",
   "metadata": {
    "collapsed": false
   },
   "source": [
    "### Linear regression performance over 20 trials\n",
    "The advisor updates via linear regression and samples (chooses) a configuration via softmax."
   ]
  },
  {
   "cell_type": "code",
   "execution_count": 1,
   "id": "initial_id",
   "metadata": {
    "ExecuteTime": {
     "end_time": "2025-05-04T19:53:28.791048400Z",
     "start_time": "2025-05-04T19:53:28.002634600Z"
    },
    "collapsed": true
   },
   "outputs": [],
   "source": [
    "import json\n",
    "import matplotlib.pyplot as plt\n",
    "from matplotlib.ticker import MultipleLocator\n",
    "import numpy as np\n",
    "from math import sqrt\n",
    "from tqdm import tqdm\n",
    "from copy import deepcopy\n",
    "from common import set_matplotlib_latex, plot_colours, Advisor, set_axes_length, Landscape\n",
    "set_matplotlib_latex()\n",
    "plot_width = 1.05\n",
    "plot_height = 0.7\n",
    "\n",
    "def mean_std_linear_regression_rewards(landscapes, nr_trials):\n",
    "    # returns the mean rewards and standard deviations of the rewards\n",
    "    # by following linear regression\n",
    "    rounds_rewards = []\n",
    "    for landscape in tqdm(landscapes):\n",
    "        all_combinations = landscape.get_combinations()\n",
    "        advisor = Advisor(landscape.get_block_nr1(), landscape.get_block_nr2())\n",
    "        round_rewards = []\n",
    "        for _ in range(nr_trials):\n",
    "            selected_combination = advisor.sample_combination(all_combinations)\n",
    "            selection = landscape.selection_with_noisy_reward(selected_combination)\n",
    "            advisor.update_with_selection(selection)\n",
    "            reward = selection.get_reward_in_percentage(landscape.get_min_reward(), landscape.get_max_reward())\n",
    "            round_rewards.append(reward)\n",
    "        rounds_rewards.append(round_rewards)\n",
    "    return np.mean(rounds_rewards, axis=0), np.std(rounds_rewards, axis=0)\n",
    "\n",
    "\n",
    "def load_landscape_trios():\n",
    "    with open(f\"../landscapes/landscape_trios_20.json\", \"r\", encoding=\"utf-8\") as file:\n",
    "        landscape_trios_json = json.load(file)\n",
    "    landscapes = []\n",
    "    for trio_json in landscape_trios_json:\n",
    "        for landscape_json in trio_json:\n",
    "            landscape = Landscape(landscape_json[\"coefficients_low\"], landscape_json[\"coefficients_high\"],\n",
    "                                  landscape_json[\"block_nr1\"], landscape_json[\"block_nr2\"], 0)\n",
    "            landscapes.append(landscape)\n",
    "    return landscapes\n",
    "\n",
    "def plot_mean_rewards_confidence_interval(rewards_mean, rewards_std):\n",
    "    trial_numbers = list(range(1, 21))\n",
    "    plt.plot(trial_numbers, rewards_mean, color=plot_colours[\"ai\"])\n",
    "    plt.fill_between(trial_numbers, rewards_mean - 1.96 * rewards_std / sqrt(len(rewards_mean)),\n",
    "                     rewards_mean + 1.96 * rewards_std / sqrt(len(rewards_mean)), color=plot_colours[\"ai\"], alpha=0.2, linewidth=0.0)\n",
    "    plt.xlim(1, 20)\n",
    "    plt.xlabel(\"Trial\", labelpad=8, verticalalignment=\"center\")\n",
    "    plt.ylabel(\"Reward (\\%)\", loc='top')\n",
    "    plt.gca().yaxis.set_major_locator(MultipleLocator(10))\n",
    "    set_axes_length(plot_width, plot_height)\n",
    "    plt.savefig(\"../figures/linear_regression_performance/linear_regression.pdf\", bbox_inches='tight')\n",
    "    plt.show()"
   ]
  },
  {
   "cell_type": "code",
   "execution_count": 11,
   "id": "9968b98ef76809c1",
   "metadata": {
    "ExecuteTime": {
     "end_time": "2025-01-19T15:02:04.274636200Z",
     "start_time": "2025-01-19T14:41:24.408161Z"
    },
    "collapsed": false
   },
   "outputs": [
    {
     "name": "stderr",
     "output_type": "stream",
     "text": [
      "100%|██████████| 6000/6000 [20:27<00:00,  4.89it/s]\n"
     ]
    },
    {
     "data": {
      "image/png": "[encoded data removed]",
      "text/plain": [
       "<Figure size 135.484x90.9091 with 1 Axes>"
      ]
     },
     "metadata": {},
     "output_type": "display_data"
    }
   ],
   "source": [
    "repeat_landscape = 100\n",
    "nr_trials = 20\n",
    "\n",
    "landscapes = load_landscape_trios()\n",
    "results_json = []\n",
    "all_landscapes = []\n",
    "for landscape in landscapes:\n",
    "    for _ in range(repeat_landscape):\n",
    "        landscape_copy = deepcopy(landscape)\n",
    "        landscape_copy.init_scaled_rewards()\n",
    "        all_landscapes.append(landscape_copy)\n",
    "rewards_mean, rewards_std = mean_std_linear_regression_rewards(all_landscapes, nr_trials)\n",
    "plot_mean_rewards_confidence_interval(rewards_mean, rewards_std)\n",
    "results_json.append({\"rewards_mean\": list(rewards_mean), \"rewards_std\": list(rewards_std)})\n",
    "\n",
    "with open(f\"../outputs/linear_regression_performance/linear_regression.json\", \"w\",\n",
    "        encoding=\"utf-8\") as file:\n",
    "    json.dump(results_json, file, ensure_ascii=False, indent=4)"
   ]
  },
  {
   "cell_type": "code",
   "execution_count": null,
   "id": "ef9d51c28fbca476",
   "metadata": {
    "collapsed": false
   },
   "outputs": [],
   "source": []
  }
 ],
 "metadata": {
  "kernelspec": {
   "display_name": "global-vs-local-analysis",
   "language": "python",
   "name": "python3"
  },
  "language_info": {
   "codemirror_mode": {
    "name": "ipython",
    "version": 3
   },
   "file_extension": ".py",
   "mimetype": "text/x-python",
   "name": "python",
   "nbconvert_exporter": "python",
   "pygments_lexer": "ipython3",
   "version": "3.11.12"
  }
 },
 "nbformat": 4,
 "nbformat_minor": 5
}
