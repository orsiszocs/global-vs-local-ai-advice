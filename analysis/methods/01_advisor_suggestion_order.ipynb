{
 "cells": [
  {
   "cell_type": "markdown",
   "id": "20bde8088aa76385",
   "metadata": {
    "collapsed": false
   },
   "source": [
    "### Frequency of the advisor's suggestion being the same as the k-th true best suggestion\n",
    "Counts how often the advisor's sampled suggestion is the true best, 2nd best, ..., 16th best suggestion. Repeated over a large number of random landscapes."
   ]
  },
  {
   "cell_type": "code",
   "execution_count": 2,
   "id": "bb47121573d9fb8f",
   "metadata": {
    "ExecuteTime": {
     "end_time": "2024-12-03T23:48:26.612518600Z",
     "start_time": "2024-12-03T23:48:25.990791Z"
    },
    "collapsed": false
   },
   "outputs": [],
   "source": [
    "from common import Advisor, set_matplotlib_latex, plot_colours, all_high_level_suggestions, all_low_level_suggestions, generate_random_landscape, set_axes_length\n",
    "from tqdm import tqdm\n",
    "import numpy as np\n",
    "import matplotlib.pyplot as plt\n",
    "set_matplotlib_latex()\n",
    "from matplotlib.ticker import FixedLocator, MultipleLocator"
   ]
  },
  {
   "cell_type": "code",
   "execution_count": 2,
   "id": "b4395e222996564",
   "metadata": {
    "ExecuteTime": {
     "end_time": "2024-12-03T23:48:26.628148100Z",
     "start_time": "2024-12-03T23:48:26.612518600Z"
    },
    "collapsed": false
   },
   "outputs": [],
   "source": [
    "def generate_random_landscapes(nr_landscapes):\n",
    "    # generate random landscapes and initialise the scaled rewards\n",
    "    random_landscapes = []\n",
    "    for _ in tqdm(range(nr_landscapes)):\n",
    "        random_landscape = generate_random_landscape()\n",
    "        random_landscape.init_scaled_rewards()\n",
    "        random_landscapes.append(random_landscape)\n",
    "    return random_landscapes"
   ]
  },
  {
   "cell_type": "code",
   "execution_count": 3,
   "id": "8c0a2ec5484b15ed",
   "metadata": {
    "ExecuteTime": {
     "end_time": "2024-12-03T23:48:26.659394300Z",
     "start_time": "2024-12-03T23:48:26.643770Z"
    },
    "collapsed": false
   },
   "outputs": [],
   "source": [
    "def suggestion_order_frequency(landscapes, nr_trials, advisor_type):\n",
    "    \"\"\"\n",
    "    Returns a dictionary where the keys are 1, 2, ..., 16 (corresponding to the true order of the suggestions' value) and the values are lists of the frequency of the advisor's suggestion being the same as the k-th true best suggestion (in percentage) after 0, 1, ..., 19 selections.\n",
    "    \n",
    "    key 1 -> the frequency of the advisor's suggestion being the same as the true best suggestion after 0, ..., 19 selections\n",
    "    ...\n",
    "    key 16 -> the frequency of the advisor's suggestion being the same as the true worst suggestion after 0, ..., 19 selections\n",
    "    \n",
    "    advisor_type is either \"high\" or \"low\".\n",
    "    \"\"\"\n",
    "    orders_frequencies = {}\n",
    "    for order in range(1, 17):\n",
    "        orders_frequencies[order] = []\n",
    "    for landscape in tqdm(landscapes):\n",
    "        round_frequencies = {}\n",
    "        for order in range(1, 17):\n",
    "            round_frequencies[order] = []\n",
    "        all_combinations = landscape.get_combinations()\n",
    "        advisor = Advisor(landscape.get_block_nr1(), landscape.get_block_nr2())\n",
    "        all_suggestions = all_high_level_suggestions() if advisor_type == \"high\" else all_low_level_suggestions(landscape.get_block_nr1(), landscape.get_block_nr2())\n",
    "        all_suggestions.sort(key=lambda suggestion: landscape.suggestion_value(suggestion), reverse=True)\n",
    "        for _ in range(nr_trials):\n",
    "            softmax_suggestion = advisor.best_suggestion_high_level(all_combinations) if advisor_type == \"high\" else advisor.best_suggestion_low_level(all_combinations)\n",
    "            for order in range(1, 17):\n",
    "                if all_suggestions[order - 1] == softmax_suggestion:\n",
    "                    round_frequencies[order].append(1)\n",
    "                else:\n",
    "                    round_frequencies[order].append(0)\n",
    "            # give a new random selection to the advisor\n",
    "            random_combination = all_combinations[np.random.randint(low=0, high=len(all_combinations))]\n",
    "            random_selection = landscape.selection_with_noisy_reward(random_combination)\n",
    "            advisor.update_with_selection(random_selection)\n",
    "        for order in range(1, 17):\n",
    "            orders_frequencies[order].append(round_frequencies[order])\n",
    "    for order in range(1, 17):\n",
    "        orders_frequencies[order] = 100 * np.mean(orders_frequencies[order], axis=0)\n",
    "    return orders_frequencies\n",
    "\n",
    "def save_and_plot_performance(filename_figure_high_low, filename_figure_average, filename_simulation_high, filename_simulation_low, frequency_high, frequency_low, show=True):\n",
    "    plot_width = 1.05\n",
    "    plot_height = 0.7\n",
    "    order_numbers = list(range(1, 17))\n",
    "    overall_frequency_high = []\n",
    "    overall_frequency_low = []\n",
    "    for order in range(1, 17):\n",
    "        overall_frequency_high.append(np.mean(frequency_high[order]))\n",
    "        overall_frequency_low.append(np.mean(frequency_low[order]))\n",
    "    overall_frequency_average = [(overall_frequency_low[i] + overall_frequency_high[i]) / 2 for i in range(16)]\n",
    "    print(f\"suggestion order frequencies (global): {overall_frequency_high}\")\n",
    "    print(f\"suggestion order frequencies (local): {overall_frequency_low}\")\n",
    "    print(f\"suggestion order frequencies (average): {overall_frequency_average}\")\n",
    "    plt.plot(order_numbers, overall_frequency_high, label=\"Global\", color=plot_colours[\"global\"])\n",
    "    plt.plot(order_numbers, overall_frequency_low, label=\"Local\", color=plot_colours[\"local\"])\n",
    "    plt.legend(loc=\"upper right\")\n",
    "    plt.xlabel(\"Suggestion order\")\n",
    "    plt.gca().xaxis.set_major_locator(FixedLocator([1, 6, 11, 16]))\n",
    "    plt.gca().yaxis.set_major_locator(MultipleLocator(base=20))\n",
    "    plt.ylabel(\"Frequency (\\%)\")\n",
    "    set_axes_length(plot_width, plot_height)\n",
    "    plt.savefig(filename_figure_high_low, bbox_inches='tight')\n",
    "    if show:\n",
    "        plt.show()\n",
    "    else:\n",
    "        plt.close()\n",
    "    plt.plot(order_numbers, overall_frequency_average, color=plot_colours[\"ai\"])\n",
    "    plt.xlabel(\"Suggestion order\")\n",
    "    plt.gca().xaxis.set_major_locator(FixedLocator([1, 6, 11, 16]))\n",
    "    plt.gca().yaxis.set_major_locator(MultipleLocator(base=20))\n",
    "    plt.ylabel(\"Frequency (\\%)\")\n",
    "    set_axes_length(plot_width, plot_height)\n",
    "    plt.savefig(filename_figure_average, bbox_inches='tight')\n",
    "    if show:\n",
    "        plt.show()\n",
    "    else:\n",
    "        plt.close()\n",
    "    with open(filename_simulation_high, \"w\") as file_high:\n",
    "        for order in range(1, 17):\n",
    "            file_high.write(f\"{order}\\n\")\n",
    "            for frequency in frequency_high[order]:\n",
    "                file_high.write(f\"{frequency}\\n\")\n",
    "            file_high.write(\"\\n\")\n",
    "    with open(filename_simulation_low, \"w\") as file_low:\n",
    "        for order in range(1, 17):\n",
    "            file_low.write(f\"{order}\\n\")\n",
    "            for frequency in frequency_low[order]:\n",
    "                file_low.write(f\"{frequency}\\n\")\n",
    "            file_low.write(\"\\n\")"
   ]
  },
  {
   "cell_type": "code",
   "execution_count": 5,
   "id": "a25e5ca5ed2ff333",
   "metadata": {
    "ExecuteTime": {
     "end_time": "2024-12-04T11:52:34.994426200Z",
     "start_time": "2024-12-03T23:55:41.014654100Z"
    },
    "collapsed": false
   },
   "outputs": [
    {
     "name": "stderr",
     "output_type": "stream",
     "text": [
      "100%|██████████| 100000/100000 [17:30<00:00, 95.23it/s]\n",
      "100%|██████████| 100000/100000 [5:28:38<00:00,  5.07it/s]  \n",
      "100%|██████████| 100000/100000 [6:10:34<00:00,  4.50it/s] \n"
     ]
    },
    {
     "name": "stdout",
     "output_type": "stream",
     "text": [
      "suggestion order frequencies (global): [60.91015, 8.66085, 7.5518, 4.7056000000000004, 3.45405, 2.57425, 2.0709, 1.8581999999999994, 1.66175, 1.4927, 1.2535000000000003, 0.9801, 0.8398, 0.75005, 0.7152999999999999, 0.521]\n",
      "suggestion order frequencies (local): [56.661000000000016, 13.5952, 6.761799999999999, 4.40025, 3.4318999999999997, 2.7952, 2.2962000000000007, 1.8734999999999995, 1.6738000000000004, 1.3563000000000003, 1.19485, 1.04135, 0.92165, 0.76945, 0.6709499999999999, 0.5566]\n",
      "suggestion order frequencies (average): [58.78557500000001, 11.128025000000001, 7.1568, 4.552925, 3.4429749999999997, 2.6847250000000003, 2.1835500000000003, 1.8658499999999996, 1.6677750000000002, 1.4245, 1.2241750000000002, 1.0107249999999999, 0.880725, 0.7597499999999999, 0.693125, 0.5388]\n"
     ]
    },
    {
     "data": {
      "image/png": "[encoded data removed]",
      "text/plain": [
       "<Figure size 135.484x90.9091 with 1 Axes>"
      ]
     },
     "metadata": {},
     "output_type": "display_data"
    },
    {
     "data": {
      "image/png": "[encoded data removed]",
      "text/plain": [
       "<Figure size 135.484x90.9091 with 1 Axes>"
      ]
     },
     "metadata": {},
     "output_type": "display_data"
    }
   ],
   "source": [
    "%matplotlib inline\n",
    "\n",
    "nr_trials = 20\n",
    "nr_landscapes = 100000\n",
    "\n",
    "landscapes = generate_random_landscapes(nr_landscapes)\n",
    "frequency_high = suggestion_order_frequency(landscapes, nr_trials, \"high\")\n",
    "frequency_low = suggestion_order_frequency(landscapes, nr_trials, \"low\")\n",
    "filename_figure_high_low = f\"../figures/advisor_suggestion_order/suggestion_order_high_low.pdf\"\n",
    "filename_figure_average = f\"../figures/advisor_suggestion_order/suggestion_order_average.pdf\"\n",
    "filename_simulation_high = f\"../outputs/advisor_suggestion_order/suggestion_order_high.txt\"\n",
    "filename_simulation_low = f\"../outputs/advisor_suggestion_order/suggestion_order_low.txt\"\n",
    "save_and_plot_performance(filename_figure_high_low, filename_figure_average, filename_simulation_high, filename_simulation_low, frequency_high, frequency_low)"
   ]
  },
  {
   "cell_type": "code",
   "execution_count": null,
   "id": "10e76042da948f03",
   "metadata": {
    "ExecuteTime": {
     "start_time": "2024-12-03T23:55:37.618214Z"
    },
    "collapsed": false
   },
   "outputs": [],
   "source": []
  }
 ],
 "metadata": {
  "kernelspec": {
   "display_name": "global-vs-local-analysis",
   "language": "python",
   "name": "python3"
  },
  "language_info": {
   "codemirror_mode": {
    "name": "ipython",
    "version": 3
   },
   "file_extension": ".py",
   "mimetype": "text/x-python",
   "name": "python",
   "nbconvert_exporter": "python",
   "pygments_lexer": "ipython3",
   "version": "3.11.12"
  }
 },
 "nbformat": 4,
 "nbformat_minor": 5
}
