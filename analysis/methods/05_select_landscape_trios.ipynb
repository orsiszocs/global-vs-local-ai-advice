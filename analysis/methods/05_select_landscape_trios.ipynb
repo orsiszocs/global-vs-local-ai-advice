{
 "cells": [
  {
   "cell_type": "markdown",
   "id": "5feb505722a7fc4f",
   "metadata": {
    "collapsed": false
   },
   "source": [
    "### Final landscape selection\n",
    "From the 100 preselected landscape trios, selects 20 final ones for the study.\n",
    "Selects landscapes such that the sum of the absolute differences between the global and local AI values is minimised across the complete set of selected trios. Ensures that the average global and local advisor rewards match as closely as possible."
   ]
  },
  {
   "cell_type": "code",
   "execution_count": 1,
   "id": "initial_id",
   "metadata": {
    "ExecuteTime": {
     "end_time": "2025-05-04T17:52:46.539342400Z",
     "start_time": "2025-05-04T17:52:46.534196600Z"
    },
    "collapsed": true,
    "jupyter": {
     "outputs_hidden": true
    }
   },
   "outputs": [],
   "source": [
    "import json\n",
    "import numpy as np\n",
    "import matplotlib.pyplot as plt\n",
    "from matplotlib.ticker import FixedLocator, MultipleLocator\n",
    "from common import Landscape, set_matplotlib_latex, plot_colours, set_axes_length\n",
    "set_matplotlib_latex()"
   ]
  },
  {
   "cell_type": "code",
   "execution_count": 7,
   "id": "341346c93a6d2d1f",
   "metadata": {
    "ExecuteTime": {
     "end_time": "2025-05-04T17:52:47.193261900Z",
     "start_time": "2025-05-04T17:52:47.176232Z"
    },
    "collapsed": false
   },
   "outputs": [],
   "source": [
    "def load_preselected_landscape_trios():\n",
    "    with open(f\"../outputs/advisor_high_low_comparison_preselected_landscapes/advisor_high_low_comparison_preselected_landscapes.json\", \"r\", encoding=\"utf-8\") as file:\n",
    "        landscape_trios_json = json.load(file)\n",
    "    landscape_trios = []\n",
    "    for landscape_trio_json in landscape_trios_json:\n",
    "        trio = []\n",
    "        for landscape_trio in landscape_trio_json[\"trio\"]:\n",
    "            landscape = Landscape(landscape_trio[\"coefficients_low\"], landscape_trio[\"coefficients_high\"], landscape_trio[\"block_nr1\"], landscape_trio[\"block_nr2\"], 0)\n",
    "            trio.append(landscape)\n",
    "        landscape_trios.append({\n",
    "            \"trio\": trio,\n",
    "            \"high_rewards\": np.array(landscape_trio_json[\"high_rewards\"]),\n",
    "            \"low_rewards\": np.array(landscape_trio_json[\"low_rewards\"])})\n",
    "    return landscape_trios\n",
    "\n",
    "def save_selected_landscape_trios(landscape_trios, nr_trios_to_select):\n",
    "    landscape_id = 0\n",
    "    selected_trios_json = []\n",
    "    selected_trios_with_rewards_json = []\n",
    "    for landscape_trio in landscape_trios:\n",
    "        selected_trio_json = []\n",
    "        for landscape in landscape_trio[\"trio\"]:\n",
    "            selected_trio_json.append({\n",
    "                \"coefficients_low\": landscape.get_coefficients_low(),\n",
    "                \"coefficients_high\": landscape.get_coefficients_high(),\n",
    "                \"block_nr1\": landscape.get_block_nr1(),\n",
    "                \"block_nr2\": landscape.get_block_nr2(),\n",
    "                \"id\": landscape_id\n",
    "            })\n",
    "            landscape_id += 1\n",
    "        selected_trios_json.append(selected_trio_json)\n",
    "        selected_trios_with_rewards_json.append({\n",
    "            \"trio\": selected_trio_json,\n",
    "            \"high_rewards\": landscape_trio[\"high_rewards\"].tolist(),\n",
    "            \"low_rewards\": landscape_trio[\"low_rewards\"].tolist()\n",
    "        })\n",
    "    with open(f\"../landscapes/landscape_trios_{nr_trios_to_select}.json\", \"w\", encoding=\"utf-8\") as file:\n",
    "        json.dump(selected_trios_json, file, indent=4)\n",
    "    with open(f\"../landscapes/landscape_trios_{nr_trios_to_select}_with_rewards.json\", \"w\", encoding=\"utf-8\") as file:\n",
    "        json.dump(selected_trios_with_rewards_json, file, indent=4)\n",
    "        \n",
    "def plot_performance(filename_figure_high_low, filename_figure_average, performance_high, performance_low, nr_trials, show=False):\n",
    "    plot_width = 1.05\n",
    "    plot_height = 0.7\n",
    "    trial_numbers = list(range(0, nr_trials))\n",
    "    plt.plot(trial_numbers, performance_high, label=\"Global\", color=plot_colours[\"global\"])\n",
    "    plt.plot(trial_numbers, performance_low, label=\"Local\", color=plot_colours[\"local\"])\n",
    "    plt.legend(loc=\"lower right\")\n",
    "    plt.xlabel(\"Random trial\")\n",
    "    plt.gca().xaxis.set_major_locator(FixedLocator([0, 6, 13, 19]))\n",
    "    plt.gca().yaxis.set_major_locator(MultipleLocator(base=10))\n",
    "    plt.ylabel(\"AI value (\\%)\")\n",
    "    set_axes_length(plot_width, plot_height)\n",
    "    plt.legend(loc='center left', bbox_to_anchor=(1, 0.5))\n",
    "    plt.legend(loc='center left', bbox_to_anchor=(1, 0.5))\n",
    "    plt.savefig(filename_figure_high_low, bbox_inches='tight')\n",
    "    plt.show()\n",
    "    plt.close()\n",
    "    plt.plot(trial_numbers, np.mean([performance_high, performance_low], axis=0), color=plot_colours[\"ai\"])\n",
    "    plt.xlabel(\"Random trial\")\n",
    "    plt.gca().xaxis.set_major_locator(FixedLocator([0, 6, 13, 19]))\n",
    "    plt.gca().yaxis.set_major_locator(MultipleLocator(base=10))\n",
    "    plt.ylabel(\"AI value (\\%)\")\n",
    "    set_axes_length(plot_width, plot_height)\n",
    "    plt.savefig(filename_figure_average, bbox_inches='tight')\n",
    "    if show:\n",
    "        plt.show()\n",
    "    else:\n",
    "        plt.close()"
   ]
  },
  {
   "cell_type": "code",
   "execution_count": 8,
   "id": "32a752d616b8eb3c",
   "metadata": {
    "ExecuteTime": {
     "end_time": "2025-05-04T17:52:52.148556400Z",
     "start_time": "2025-05-04T17:52:47.674198100Z"
    },
    "collapsed": false
   },
   "outputs": [
    {
     "data": {
      "image/png": "[encoded data removed]",
      "text/plain": [
       "<Figure size 135.484x90.9091 with 1 Axes>"
      ]
     },
     "metadata": {},
     "output_type": "display_data"
    },
    {
     "data": {
      "image/png": "[encoded data removed]",
      "text/plain": [
       "<Figure size 135.484x90.9091 with 1 Axes>"
      ]
     },
     "metadata": {},
     "output_type": "display_data"
    }
   ],
   "source": [
    "nr_trios_to_select = 20\n",
    "landscape_trios = load_preselected_landscape_trios()\n",
    "\n",
    "selected_trios = []\n",
    "high_low_difference_sum = np.zeros(len(landscape_trios[0][\"high_rewards\"]))\n",
    "for i in range(nr_trios_to_select):\n",
    "    new_trio = None\n",
    "    trio_score = np.inf\n",
    "    for trio in landscape_trios:\n",
    "        if trio in selected_trios:\n",
    "            continue\n",
    "        new_high_low_difference_sum = high_low_difference_sum + trio[\"high_rewards\"] - trio[\"low_rewards\"]\n",
    "        new_trio_score = np.sum(np.abs(new_high_low_difference_sum))\n",
    "        if new_trio_score < trio_score:\n",
    "            new_trio = trio\n",
    "            trio_score = new_trio_score\n",
    "    selected_trios.append(new_trio)\n",
    "    high_low_difference_sum += new_trio[\"high_rewards\"] - new_trio[\"low_rewards\"]\n",
    "\n",
    "save_selected_landscape_trios(selected_trios, nr_trios_to_select)\n",
    "\n",
    "filename_figure_high_low = f\"../figures/advisor_high_low_comparison/selected_landscape_trios_high_low_performance.pdf\"\n",
    "filename_figure_average = f\"../figures/advisor_high_low_comparison/selected_landscape_trios_performance.pdf\"\n",
    "performance_high = np.mean([trio[\"high_rewards\"] for trio in selected_trios], axis=0)\n",
    "performance_low = np.mean([trio[\"low_rewards\"] for trio in selected_trios], axis=0)\n",
    "plot_performance(filename_figure_high_low, filename_figure_average, performance_high, performance_low, len(performance_high), show=True)"
   ]
  },
  {
   "cell_type": "code",
   "execution_count": 3,
   "id": "88db29979cbb8f8f",
   "metadata": {
    "ExecuteTime": {
     "end_time": "2025-05-04T17:45:35.683465200Z",
     "start_time": "2025-05-04T17:45:35.647453900Z"
    },
    "collapsed": false
   },
   "outputs": [],
   "source": []
  }
 ],
 "metadata": {
  "kernelspec": {
   "display_name": "global-vs-local-analysis",
   "language": "python",
   "name": "python3"
  },
  "language_info": {
   "codemirror_mode": {
    "name": "ipython",
    "version": 3
   },
   "file_extension": ".py",
   "mimetype": "text/x-python",
   "name": "python",
   "nbconvert_exporter": "python",
   "pygments_lexer": "ipython3",
   "version": "3.11.12"
  }
 },
 "nbformat": 4,
 "nbformat_minor": 5
}
